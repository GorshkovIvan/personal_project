{
 "cells": [
  {
   "cell_type": "code",
   "execution_count": null,
   "metadata": {},
   "outputs": [],
   "source": [
    "import numpy as np\n",
    "import math\n",
    "import networkx as nx\n",
    "from pyvis.network import Network"
   ]
  },
  {
   "cell_type": "code",
   "execution_count": null,
   "metadata": {},
   "outputs": [],
   "source": [
    "tree_matrix =  np.array([[0, 1, 1, 0, 0, 0, 0],\n",
    "                         [1, 0, 0, 1, 1, 0, 0],\n",
    "                         [1, 0, 0, 0, 0, 1, 1], \n",
    "                         [0, 1, 0, 0, 0, 0, 0], \n",
    "                         [0, 1, 0, 0, 0, 0, 0],\n",
    "                         [0, 0, 1, 0, 0, 0, 0],\n",
    "                         [0, 0, 1, 0, 0, 0, 0]])\n",
    "\n",
    "network = tree_matrix\n",
    "\n",
    "G = louvain_ascendency(network)\n",
    "print(G.optimise())\n"
   ]
  },
  {
   "cell_type": "code",
   "execution_count": null,
   "metadata": {},
   "outputs": [],
   "source": [
    "ERG = nx.erdos_renyi_graph(50, 0.5, seed=None, directed=True)\n"
   ]
  },
  {
   "cell_type": "code",
   "execution_count": null,
   "metadata": {},
   "outputs": [],
   "source": [
    "network = nx.to_numpy_array(ERG)\n",
    "print(network)\n",
    "G = louvain_ascendency(network)\n",
    "print(G.optimise())\n"
   ]
  }
 ],
 "metadata": {
  "kernelspec": {
   "display_name": "Python 3",
   "language": "python",
   "name": "python3"
  },
  "language_info": {
   "codemirror_mode": {
    "name": "ipython",
    "version": 3
   },
   "file_extension": ".py",
   "mimetype": "text/x-python",
   "name": "python",
   "nbconvert_exporter": "python",
   "pygments_lexer": "ipython3",
   "version": "3.7.2"
  }
 },
 "nbformat": 4,
 "nbformat_minor": 2
}
