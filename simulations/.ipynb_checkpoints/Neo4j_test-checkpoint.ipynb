{
 "cells": [
  {
   "cell_type": "code",
   "execution_count": 18,
   "metadata": {},
   "outputs": [],
   "source": [
    "from neo4j import __version__ as neo4j_version\n",
    "from neo4j import GraphDatabase\n",
    "import pandas as pd"
   ]
  },
  {
   "cell_type": "code",
   "execution_count": 19,
   "metadata": {},
   "outputs": [],
   "source": [
    "class Neo4jConnection:\n",
    "    \n",
    "    def __init__(self, uri, user, pwd):\n",
    "        self.__uri = uri\n",
    "        self.__user = user\n",
    "        self.__pwd = pwd\n",
    "        self.__driver = None\n",
    "        try:\n",
    "            self.__driver = GraphDatabase.driver(self.__uri, auth=(self.__user, self.__pwd))\n",
    "        except Exception as e:\n",
    "            print(\"Failed to create the driver:\", e)\n",
    "        \n",
    "    def close(self):\n",
    "        if self.__driver is not None:\n",
    "            self.__driver.close()\n",
    "        \n",
    "    def query(self, query, db=None):\n",
    "        assert self.__driver is not None, \"Driver not initialized!\"\n",
    "        session = None\n",
    "        response = None\n",
    "        try: \n",
    "            session = self.__driver.session(database=db) if db is not None else self.__driver.session() \n",
    "            response = list(session.run(query))\n",
    "        except Exception as e:\n",
    "            print(\"Query failed:\", e)\n",
    "        finally: \n",
    "            if session is not None:\n",
    "                session.close()\n",
    "        return response"
   ]
  },
  {
   "cell_type": "code",
   "execution_count": 64,
   "metadata": {},
   "outputs": [],
   "source": [
    "conn = Neo4jConnection(uri=\"bolt://localhost:7687\", \n",
    "                       user=\"neo4j\",              \n",
    "                       pwd=\"uniswap\")"
   ]
  },
  {
   "cell_type": "code",
   "execution_count": 65,
   "metadata": {},
   "outputs": [],
   "source": [
    "def find_large_communities(threshold, conn):\n",
    "    query_string = '''MATCH (n:Address)\n",
    "                    WHERE EXISTS(n.communityId)\n",
    "                    RETURN n.communityId AS communityId, COUNT(*) AS size\n",
    "                    ORDER BY size DESC'''\n",
    "\n",
    "    size_of_communities = pd.DataFrame([dict(_) for _ in conn.query(query_string)])\n",
    "    large_communities = []\n",
    "    for index, row in size_of_communities.iterrows():\n",
    "        if(row['size'] > threshold):\n",
    "            large_communities.append(row['communityId'])\n",
    "    return large_communities\n",
    "\n"
   ]
  },
  {
   "cell_type": "code",
   "execution_count": 66,
   "metadata": {},
   "outputs": [],
   "source": [
    "def get_all_community_addresses(community_id):\n",
    "    query_string = '''MATCH (n)\n",
    "                      WHERE n.communityId = ''' \n",
    "    query_string = query_string + str(community_id) \n",
    "    query_string += '''RETURN n.id as id'''\n",
    "\n",
    "    addresses_in_community = pd.DataFrame([dict(_) for _ in conn.query(query_string)])\n",
    "    return addresses_in_community['id'].tolist()\n",
    "\n"
   ]
  },
  {
   "cell_type": "code",
   "execution_count": 67,
   "metadata": {},
   "outputs": [],
   "source": [
    "large_communities_ids = find_large_communities(20, conn)\n",
    "large_communities = {}\n",
    "for community in large_communities_ids:\n",
    "    large_communities[community] = get_all_community_addresses(community)\n",
    "    "
   ]
  },
  {
   "cell_type": "code",
   "execution_count": 79,
   "metadata": {},
   "outputs": [
    {
     "name": "stdout",
     "output_type": "stream",
     "text": [
      "2\n"
     ]
    }
   ],
   "source": [
    "def get_node_degree(node_address, conn):\n",
    "    \n",
    "    query_string = '''MATCH (n:Address {id: \\\"'''\n",
    "    query_string += str(node_address)\n",
    "    query_string +=  '\"})'\n",
    "    query_string += '''RETURN apoc.node.degree(n) AS degree '''\n",
    "    \n",
    "    degree = pd.DataFrame([dict(_) for _ in conn.query(query_string)])\n",
    "    \n",
    "    return degree['degree'][0]\n",
    "\n",
    "print(get_node_degree('0xffc939c35c8a534ae7d9536cd99bb7dfdc0c7bae', conn))"
   ]
  },
  {
   "cell_type": "code",
   "execution_count": 81,
   "metadata": {},
   "outputs": [
    {
     "data": {
      "text/plain": [
       "('0x6262998ced04146fa42253a5c0af90ca02dfd2a3', 37)"
      ]
     },
     "execution_count": 81,
     "metadata": {},
     "output_type": "execute_result"
    }
   ],
   "source": [
    "def get_address_with_highest_degree(community_id, large_communities, conn):\n",
    "    a = \"0x\"\n",
    "    highest_degree = 0\n",
    "    for address in large_communities[community_id]:\n",
    "        node_degree = get_node_degree(address, conn)\n",
    "        if node_degree > highest_degree:\n",
    "            highest_degree = node_degree\n",
    "            a = address\n",
    "            \n",
    "    return a, highest_degree\n",
    "\n",
    "get_address_with_highest_degree(1, large_communities, conn)\n",
    "        "
   ]
  },
  {
   "cell_type": "code",
   "execution_count": 82,
   "metadata": {},
   "outputs": [
    {
     "name": "stdout",
     "output_type": "stream",
     "text": [
      "('0xb739d0895772dbb71a89a3754a160269068f0d45', 1469)\n",
      "('0x74de5d4fcbf63e00296fd95d33236b9794016631', 314)\n",
      "('0xfbb1b73c4f0bda4f67dca266ce6ef42f520fbb98', 24)\n",
      "('0x090d4613473dee047c3f2706764f49e0821d256e', 56)\n",
      "('0x2faf487a4414fe77e2327f0bf4ae2a264a776ad2', 95)\n",
      "('0x1d42064fc4beb5f8aaf85f4617ae8b3b5b8bd801', 266)\n",
      "('0x48c04ed5691981c42154c6167398f95e8f38a7ff', 111)\n",
      "('0xdfd5293d8e347dfe59e90efd55b2956a1343963d', 312)\n",
      "('0xf1dbce5aeadd8e01af5477f7a603f9dadc72e284', 4)\n",
      "('0x46340b20830761efd32832a74d7169b29feb9758', 92)\n",
      "('0xa1d8d972560c2f8144af871db508f0b0b10a3fbf', 109)\n",
      "('0x21a31ee1afc51d94c2efccaa2092ad1028285549', 326)\n",
      "('0x5f65f7b609678448494de4c87521cdf6cef1e932', 183)\n",
      "('0x7ccef9ed17824214d60403171d889bd4ce878b27', 21)\n",
      "('0x42b189f48d488f50f19ebfe1e4dbc7789745aab5', 3)\n",
      "('0x28c6c06298d514db089934071355e5743bf21d60', 432)\n",
      "('0x2609de9377db593088af94435a49d745a7f310eb', 6)\n",
      "('0x6262998ced04146fa42253a5c0af90ca02dfd2a3', 37)\n",
      "('0xdafd66636e2561b0284edde37e42d192f2844d40', 73)\n",
      "('0x382ffce2287252f930e1c8dc9328dac5bf282ba1', 53)\n",
      "('0x4328c8ef27b15820c77b927ec14e824a189cfe40', 3)\n",
      "('0x5ac13261c181a9c3938bfe1b649e65d10f98566b', 39)\n",
      "('0x0000000000000000000000000000000000000000', 56)\n",
      "('0xebfb684dd2b01e698ca6c14f10e4f289934a54d6', 30)\n",
      "('0xe592427a0aece92de3edee1f18e0157c05861564', 36)\n",
      "('0xf00e80f0de9aea0b33aa229a4014572777e422ee', 23)\n"
     ]
    }
   ],
   "source": [
    "for community_id in large_communities:\n",
    "    print(get_address_with_highest_degree(community_id, large_communities, conn))"
   ]
  },
  {
   "cell_type": "code",
   "execution_count": 89,
   "metadata": {},
   "outputs": [],
   "source": [
    "def get_subgraph_by_community_id(community_id, conn):\n",
    "    query_string = '''MATCH (a1:Address)-[r:TRANSFERED_UNI]->(a2:Address)'''\n",
    "    query_string += '''WHERE a1.communityId = ''' + str(community_id) \n",
    "    query_string +=  '''AND a2.communityId =''' + str(community_id)\n",
    "    query_string += '''RETURN a1.id as From, a2.id as To, r.value as value'''\n",
    "    \n",
    "    subgraph = pd.DataFrame([dict(_) for _ in conn.query(query_string)])\n",
    "    return subgraph\n",
    "\n",
    "subgraph = get_subgraph_by_community_id(1, conn)"
   ]
  },
  {
   "cell_type": "code",
   "execution_count": 88,
   "metadata": {},
   "outputs": [
    {
     "name": "stdout",
     "output_type": "stream",
     "text": [
      "importing Jupyter notebook from louvain_ascendency.ipynb\n"
     ]
    },
    {
     "name": "stderr",
     "output_type": "stream",
     "text": [
      "louvain_ascendency.ipynb:104: RuntimeWarning: invalid value encountered in double_scalars\n",
      "  \"        \\n\",\n"
     ]
    },
    {
     "name": "stdout",
     "output_type": "stream",
     "text": [
      "({6: [6, 5, 4, 3, 2, 0, 1]}, {6: 0.5017166594399687})\n",
      "importing Jupyter notebook from mixer_ascendency.ipynb\n"
     ]
    }
   ],
   "source": [
    "import networkx as nx\n",
    "import import_ipynb\n",
    "from louvain_ascendency import*\n",
    "from mixer_ascendency import*"
   ]
  },
  {
   "cell_type": "code",
   "execution_count": 93,
   "metadata": {},
   "outputs": [],
   "source": [
    "Graphtype = nx.DiGraph()\n",
    "G=nx.from_pandas_edgelist(subgraph, 'From', 'To', ['value'], create_using=Graphtype)"
   ]
  },
  {
   "cell_type": "code",
   "execution_count": 94,
   "metadata": {},
   "outputs": [
    {
     "name": "stdout",
     "output_type": "stream",
     "text": [
      "[[0. 1. 0. ... 0. 0. 0.]\n",
      " [0. 0. 0. ... 0. 0. 0.]\n",
      " [0. 1. 0. ... 0. 0. 0.]\n",
      " ...\n",
      " [0. 1. 0. ... 0. 0. 0.]\n",
      " [0. 1. 0. ... 0. 0. 0.]\n",
      " [0. 1. 0. ... 0. 0. 0.]]\n"
     ]
    }
   ],
   "source": [
    "g_numpy = nx.to_numpy_array(G)\n",
    "print(g_numpy)"
   ]
  },
  {
   "cell_type": "code",
   "execution_count": 95,
   "metadata": {},
   "outputs": [
    {
     "name": "stdout",
     "output_type": "stream",
     "text": [
      "0.40137818406246906\n",
      "-76.4868602573524\n",
      "18.4633964668736\n",
      "-1.2613796476191055\n"
     ]
    },
    {
     "name": "stderr",
     "output_type": "stream",
     "text": [
      "louvain_ascendency.ipynb:104: RuntimeWarning: invalid value encountered in double_scalars\n",
      "  \"        \\n\",\n",
      "mixer_ascendency.ipynb:44: RuntimeWarning: invalid value encountered in double_scalars\n",
      "  \"            \\n\",\n",
      "mixer_ascendency.ipynb:59: RuntimeWarning: invalid value encountered in double_scalars\n",
      "  \"class blockchain:\\n\",\n"
     ]
    }
   ],
   "source": [
    "print(measure_average_mutual_information(g_numpy))\n",
    "print(measure_development_capacity(g_numpy))\n",
    "print(measure_ascendency(g_numpy))\n",
    "print(measure_redundancy(g_numpy))  "
   ]
  },
  {
   "cell_type": "code",
   "execution_count": 6,
   "metadata": {},
   "outputs": [],
   "source": [
    "# old stuff\n",
    "Data = open('D:/study_new/Studies/imperial/Dissertation/files/data/aggregated_edges_uni.csv', \"r\")\n",
    "next(Data, None)  # skip the first line in the input file\n",
    "Graphtype = nx.DiGraph()\n",
    "\n",
    "G = nx.parse_edgelist(Data, delimiter=',', create_using=Graphtype,\n",
    "                      nodetype=str, data=(('weight', float),))"
   ]
  },
  {
   "cell_type": "code",
   "execution_count": 7,
   "metadata": {},
   "outputs": [
    {
     "name": "stdout",
     "output_type": "stream",
     "text": [
      "[[0.0e+00 2.2e-06 0.0e+00 ... 0.0e+00 0.0e+00 0.0e+00]\n",
      " [0.0e+00 0.0e+00 0.0e+00 ... 0.0e+00 0.0e+00 0.0e+00]\n",
      " [0.0e+00 0.0e+00 0.0e+00 ... 0.0e+00 0.0e+00 0.0e+00]\n",
      " ...\n",
      " [0.0e+00 0.0e+00 0.0e+00 ... 0.0e+00 0.0e+00 0.0e+00]\n",
      " [0.0e+00 0.0e+00 0.0e+00 ... 0.0e+00 0.0e+00 0.0e+00]\n",
      " [0.0e+00 0.0e+00 0.0e+00 ... 0.0e+00 0.0e+00 0.0e+00]]\n"
     ]
    }
   ],
   "source": [
    "g_numpy = nx.to_numpy_array(G)\n",
    "print(g_numpy)"
   ]
  },
  {
   "cell_type": "code",
   "execution_count": 8,
   "metadata": {},
   "outputs": [
    {
     "name": "stdout",
     "output_type": "stream",
     "text": [
      "0.3827971715440443\n",
      "-4098.406400464653\n",
      "3949.0080251686168\n",
      "-0.014481934483826633\n"
     ]
    }
   ],
   "source": [
    "print(measure_average_mutual_information(g_numpy))\n",
    "print(measure_development_capacity(g_numpy))\n",
    "print(measure_ascendency(g_numpy))\n",
    "print(measure_redundancy(g_numpy))      "
   ]
  },
  {
   "cell_type": "code",
   "execution_count": null,
   "metadata": {},
   "outputs": [],
   "source": []
  }
 ],
 "metadata": {
  "kernelspec": {
   "display_name": "Python 3",
   "language": "python",
   "name": "python3"
  },
  "language_info": {
   "codemirror_mode": {
    "name": "ipython",
    "version": 3
   },
   "file_extension": ".py",
   "mimetype": "text/x-python",
   "name": "python",
   "nbconvert_exporter": "python",
   "pygments_lexer": "ipython3",
   "version": "3.7.2"
  }
 },
 "nbformat": 4,
 "nbformat_minor": 2
}
