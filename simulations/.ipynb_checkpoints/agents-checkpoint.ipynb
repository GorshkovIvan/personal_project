{
 "cells": [
  {
   "cell_type": "code",
   "execution_count": 49,
   "metadata": {},
   "outputs": [],
   "source": [
    "import numpy as np\n",
    "import networkx as nx\n",
    "from pyvis.network import Network\n",
    "import matplotlib.pyplot as plt\n",
    "import matplotlib.cm as cm"
   ]
  },
  {
   "cell_type": "code",
   "execution_count": 116,
   "metadata": {},
   "outputs": [],
   "source": [
    "class address:\n",
    "    \n",
    "    def __init__(self, coins, public):\n",
    "        \n",
    "        self.public = public\n",
    "        self.coins = coins\n",
    "       \n",
    "    def receive(self, amount):\n",
    "        self.coins += amount\n",
    "        \n",
    "    def send(self, other, amount):\n",
    "        \n",
    "        if(self.coins >= amount):\n",
    "            other.receive(amount)\n",
    "            self.coins -= amount\n",
    "            amount_sent = amount\n",
    "        else:\n",
    "            \n",
    "            other.receive(self.coins)\n",
    "            self.coins = 0\n",
    "            amount_sent = self.coins \n",
    "            \n",
    "        return amount_sent\n",
    "\n",
    "    \n",
    "class blockchain:\n",
    "    \n",
    "    \n",
    "    def __init__(self, size, coins, num_shops):\n",
    "        \n",
    "        self.num_shops = num_shops\n",
    "        self.network = np.zeros((size, size))\n",
    "        self.addresses = []\n",
    "        for i in range(size):\n",
    "            self.addresses.append(address(coins, i))\n",
    "            \n",
    "    def update_network(self, address_send, address_receive, amount):\n",
    "        self.network[address_send][address_receive] += amount\n",
    "    \n",
    "    def print_ledger(self):\n",
    "        \n",
    "        for address in self.addresses:\n",
    "            print(\"amount: \" + str(address.coins) + \" id:\" + str(address.public))\n",
    "            \n",
    "    def execute_transactions(self, addresses_to_send):\n",
    "        for i, address in enumerate(self.addresses):\n",
    "            if(addresses_to_send[i] != i and i > self.num_shops -1):\n",
    "                amount_sent = address.send(self.addresses[addresses_to_send[i]], 1)\n",
    "                self.update_network(i, addresses_to_send[i], amount_sent)\n",
    "\n",
    "class simulation:\n",
    "    \n",
    "    def __init__(self, size, coins, num_shops):\n",
    "        self.blockchain_size = size\n",
    "        self.blockchain  = blockchain(size, coins, num_shops)\n",
    "        self.num_shops = num_shops\n",
    "        \n",
    "    def step(self):\n",
    "        probabilities = []\n",
    "        for i in range(self.blockchain_size):\n",
    "            if(i < self.num_shops):\n",
    "                probabilities.append(1/self.blockchain_size * 3)\n",
    "            else:\n",
    "                probabilities.append((1 - (1/self.blockchain_size * 3) * self.num_shops)/ (self.blockchain_size - self.num_shops))\n",
    "                \n",
    "        addresses_to_send = np.random.choice(self.blockchain_size, self.blockchain_size, probabilities) \n",
    "        self.blockchain.execute_transactions(addresses_to_send)\n",
    "    \n",
    "    def simulate(self, number_of_steps):\n",
    "        \n",
    "        for i in range(number_of_steps):\n",
    "            self.step()\n",
    "    \n",
    "    def print_ledger(self):\n",
    "        self.blockchain.print_ledger()\n",
    "        \n",
    "            "
   ]
  },
  {
   "cell_type": "code",
   "execution_count": 122,
   "metadata": {},
   "outputs": [
    {
     "name": "stdout",
     "output_type": "stream",
     "text": [
      "amount: 4 id:0\n",
      "amount: 6 id:1\n",
      "amount: 0 id:2\n",
      "amount: 0 id:3\n",
      "amount: 0 id:4\n",
      "amount: 0 id:5\n",
      "amount: 0 id:6\n",
      "amount: 0 id:7\n",
      "amount: 0 id:8\n",
      "amount: 0 id:9\n",
      "[[0. 0. 0. 0. 0. 0. 0. 0. 0. 0.]\n",
      " [0. 0. 0. 0. 0. 0. 0. 0. 0. 0.]\n",
      " [0. 0. 0. 0. 1. 0. 0. 0. 0. 0.]\n",
      " [1. 0. 0. 0. 0. 1. 1. 0. 0. 0.]\n",
      " [1. 2. 0. 0. 0. 0. 0. 0. 0. 0.]\n",
      " [0. 3. 0. 1. 0. 0. 0. 0. 0. 0.]\n",
      " [1. 0. 0. 0. 0. 0. 0. 1. 1. 0.]\n",
      " [0. 0. 0. 0. 1. 0. 1. 0. 0. 0.]\n",
      " [0. 0. 0. 1. 0. 1. 0. 0. 0. 0.]\n",
      " [0. 0. 0. 0. 0. 1. 0. 0. 0. 0.]]\n"
     ]
    }
   ],
   "source": [
    "world = simulation(10, 1, 2)\n",
    "world.simulate(50)\n",
    "world.print_ledger()\n",
    "network = world.blockchain.network\n",
    "print(network)"
   ]
  },
  {
   "cell_type": "code",
   "execution_count": 123,
   "metadata": {},
   "outputs": [
    {
     "data": {
      "text/html": [
       "\n",
       "        <iframe\n",
       "            width=\"500px\"\n",
       "            height=\"500px\"\n",
       "            src=\"example.html\"\n",
       "            frameborder=\"0\"\n",
       "            allowfullscreen\n",
       "        ></iframe>\n",
       "        "
      ],
      "text/plain": [
       "<IPython.lib.display.IFrame at 0x1b8d945e048>"
      ]
     },
     "execution_count": 123,
     "metadata": {},
     "output_type": "execute_result"
    }
   ],
   "source": [
    "G = nx.from_numpy_matrix(network, create_using=nx.DiGraph)\n",
    "net = Network(notebook = True)\n",
    "net.from_nx(G)\n",
    "net.show(\"example.html\")\n",
    "\n"
   ]
  },
  {
   "cell_type": "code",
   "execution_count": 98,
   "metadata": {},
   "outputs": [],
   "source": [
    "path = \"test.txt\"\n",
    "nx.write_edgelist(G, path, delimiter=' ', comments='#', encoding='utf-8', data = False)"
   ]
  },
  {
   "cell_type": "code",
   "execution_count": 7,
   "metadata": {},
   "outputs": [
    {
     "data": {
      "text/html": [
       "\n",
       "        <iframe\n",
       "            width=\"500px\"\n",
       "            height=\"500px\"\n",
       "            src=\"example.html\"\n",
       "            frameborder=\"0\"\n",
       "            allowfullscreen\n",
       "        ></iframe>\n",
       "        "
      ],
      "text/plain": [
       "<IPython.lib.display.IFrame at 0x1b4c749cbe0>"
      ]
     },
     "execution_count": 7,
     "metadata": {},
     "output_type": "execute_result"
    }
   ],
   "source": [
    "tree_matrix =  np.array([[0, 1, 1, 0, 0, 0, 0],\n",
    "                         [1, 0, 0, 1, 1, 0, 0],\n",
    "                         [1, 0, 0, 0, 0, 1, 1], \n",
    "                         [0, 1, 0, 0, 0, 0, 0], \n",
    "                         [0, 1, 0, 0, 0, 0, 0],\n",
    "                         [0, 0, 1, 0, 0, 0, 0],\n",
    "                         [0, 0, 1, 0, 0, 0, 0]])\n",
    "\n",
    "G = nx.from_numpy_matrix(tree_matrix, create_using=nx.DiGraph)\n",
    "net = Network(notebook = True)\n",
    "net.from_nx(G)\n",
    "net.show(\"example.html\")"
   ]
  },
  {
   "cell_type": "code",
   "execution_count": 9,
   "metadata": {},
   "outputs": [],
   "source": []
  },
  {
   "cell_type": "code",
   "execution_count": null,
   "metadata": {},
   "outputs": [],
   "source": []
  }
 ],
 "metadata": {
  "kernelspec": {
   "display_name": "Python 3",
   "language": "python",
   "name": "python3"
  },
  "language_info": {
   "codemirror_mode": {
    "name": "ipython",
    "version": 3
   },
   "file_extension": ".py",
   "mimetype": "text/x-python",
   "name": "python",
   "nbconvert_exporter": "python",
   "pygments_lexer": "ipython3",
   "version": "3.7.2"
  }
 },
 "nbformat": 4,
 "nbformat_minor": 2
}
