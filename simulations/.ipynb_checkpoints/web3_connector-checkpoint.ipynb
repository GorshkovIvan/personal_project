{
 "cells": [
  {
   "cell_type": "code",
   "execution_count": 17,
   "metadata": {},
   "outputs": [],
   "source": [
    "class web3_contract:\n",
    "    \n",
    "    def __init__(self, address, abi, web3):\n",
    "        \n",
    "        self.web3 = web3\n",
    "        self.address = address\n",
    "        self.checkSumAddress = web3.toChecksumAddress(address)\n",
    "        self.contract = web3.eth.contract(self.checkSumAddress, abi=abi)\n",
    "        \n",
    "    def get_balance(self, address, block = -1):\n",
    "        if block == -1:\n",
    "            block = self.web3.eth.block_number\n",
    "        checkSumAddress = self.web3.toChecksumAddress(address)\n",
    "        balance = self.contract.functions.balanceOf(checkSumAddress).call()\n",
    "        return balance / (10**18)\n",
    "    \n",
    "    def is_contract(self, address):\n",
    "        \n",
    "        checkSumAddress = self.web3.toChecksumAddress(address)\n",
    "        response = self.web3.eth.getCode(checkSumAddress)\n",
    "        if response.hex() != \"0x\":\n",
    "            return 1\n",
    "        \n",
    "        return 0\n",
    "    \n",
    "    def get_average_balance(self, address, start_block, end_block):\n",
    "        if end_block > start_block:\n",
    "            checkSumAddress = self.web3.toChecksumAddress(address)\n",
    "            balance = 0\n",
    "            for block in range(start_block, end_block):\n",
    "                balance += self.get_balance(address, block)\n",
    "\n",
    "            return balance / (end_block - start_block)\n",
    "        return 0"
   ]
  }
 ],
 "metadata": {
  "kernelspec": {
   "display_name": "Python 3",
   "language": "python",
   "name": "python3"
  },
  "language_info": {
   "codemirror_mode": {
    "name": "ipython",
    "version": 3
   },
   "file_extension": ".py",
   "mimetype": "text/x-python",
   "name": "python",
   "nbconvert_exporter": "python",
   "pygments_lexer": "ipython3",
   "version": "3.7.2"
  }
 },
 "nbformat": 4,
 "nbformat_minor": 2
}
