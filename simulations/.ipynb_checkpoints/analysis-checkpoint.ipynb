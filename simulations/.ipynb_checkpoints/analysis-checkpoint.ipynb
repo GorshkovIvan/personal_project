{
 "cells": [
  {
   "cell_type": "code",
   "execution_count": 156,
   "metadata": {},
   "outputs": [
    {
     "name": "stdout",
     "output_type": "stream",
     "text": [
      "importing Jupyter notebook from graph_analyser_v22.ipynb\n"
     ]
    }
   ],
   "source": [
    "import pandas as pd\n",
    "import import_ipynb\n",
    "from Neo4j import *\n",
    "import matplotlib.pyplot as plt\n",
    "from graph_analyser_v22 import *\n",
    "from etherscan_scrapper_v3 import *\n",
    "from louvain_ascendency import *"
   ]
  },
  {
   "cell_type": "code",
   "execution_count": 25,
   "metadata": {},
   "outputs": [],
   "source": [
    "conn = Neo4jConnection(uri=\"bolt://localhost:7687\", \n",
    "                       user=\"neo4j\",              \n",
    "                       pwd=\"dai\")"
   ]
  },
  {
   "cell_type": "code",
   "execution_count": 157,
   "metadata": {},
   "outputs": [
    {
     "name": "stdout",
     "output_type": "stream",
     "text": [
      "DAI\n"
     ]
    }
   ],
   "source": [
    "dai_analyser = graph_analyser(conn, 'DAI')"
   ]
  },
  {
   "cell_type": "code",
   "execution_count": 99,
   "metadata": {},
   "outputs": [
    {
     "name": "stdout",
     "output_type": "stream",
     "text": [
      "['0x28c6c06298d514db089934071355e5743bf21d60', '0xa030ad671e4a209a3ddcb9d1f5061bc804d017aa', '0x34d7d7aaf50ad4944b70b320acb24c95fa2def7c']\n"
     ]
    }
   ],
   "source": [
    "nodes = dai_analyser.find_shortest_path('0x28c6c06298d514db089934071355e5743bf21d60', '0x34d7d7aaf50ad4944b70b320acb24c95fa2def7c')\n",
    "print(nodes)"
   ]
  },
  {
   "cell_type": "code",
   "execution_count": 101,
   "metadata": {},
   "outputs": [
    {
     "name": "stderr",
     "output_type": "stream",
     "text": [
      "louvain_ascendency.ipynb:104: RuntimeWarning: invalid value encountered in double_scalars\n",
      "  \"        \\n\",\n",
      "mixer_ascendency.ipynb:44: RuntimeWarning: invalid value encountered in double_scalars\n",
      "  \"            \\n\",\n",
      "mixer_ascendency.ipynb:59: RuntimeWarning: invalid value encountered in double_scalars\n",
      "  \"class blockchain:\\n\",\n"
     ]
    }
   ],
   "source": [
    "dai_analyser.perform_analysis(0.01, 1)\n",
    "dai_analyser.calculate_pageRank_centrality_for_all_nodes()\n",
    "#print(dai_analyser.pageRank_centrality_score_by_node)"
   ]
  },
  {
   "cell_type": "code",
   "execution_count": 103,
   "metadata": {},
   "outputs": [
    {
     "name": "stdout",
     "output_type": "stream",
     "text": [
      "{'0x28c6c06298d514db089934071355e5743bf21d60': {'href': 'binance exchange ', 'title': 'Address 0x28c6c06298d514db089934071355e5743bf21d60'}, '0x34d7d7aaf50ad4944b70b320acb24c95fa2def7c': {'href': 'sushiswap ', 'title': 'SushiSwap OHMDAI 2'}, '0x503828976d22510aad0201ac7ec88293211d23da': {'href': 'coinbase ', 'title': 'Address 0x503828976d22510aad0201ac7ec88293211d23da'}, '0x74de5d4fcbf63e00296fd95d33236b9794016631': {'href': '', 'title': 'Contract Address 0x74de5d4fcbf63e00296fd95d33236b9794016631'}, '0xa478c2975ab1ea89e8196811f51a7b7ade33eb11': {'href': 'uniswap ', 'title': 'Uniswap V2 DAI 2'}, '0xfd3dfb524b2da40c8a6d703c62be36b5d8540626': {'href': '', 'title': 'Contract Address 0xfd3dfb524b2da40c8a6d703c62be36b5d8540626'}, '0x06da0fd433c1a5d7a4faa01111c044910a184553': {'href': 'sushiswap ', 'title': 'SushiSwap USDT'}, '0x0000000000000000000000000000000000000000': {'href': 'blocked ', 'title': 'Address 0x0000000000000000000000000000000000000000'}, '0xc3d03e4f041fd4cd388c549ee2a29a9e5075882f': {'href': 'sushiswap ', 'title': 'SushiSwap DAI'}, '0x0000006daea1723962647b7e189d311d757fb793': {'href': '', 'title': 'Wintermute'}, '0xa5d07e978398eb1715056d3ca5cb31035c02fdad': {'href': '', 'title': 'Address 0xa5d07e978398eb1715056d3ca5cb31035c02fdad'}, '0x2a549b4af9ec39b03142da6dc32221fc390b5533': {'href': 'blockfi ', 'title': 'BlockFi 3'}, '0x0c9d28f3d6a076484a357ad75a6a3b4df71c3f87': {'href': '', 'title': 'Contract Address 0x0c9d28f3d6a076484a357ad75a6a3b4df71c3f87'}, '0xd1a1a62a01db5d40f7de05142c29ed74dacb0779': {'href': '', 'title': 'Contract Address 0xd1a1a62a01db5d40f7de05142c29ed74dacb0779'}, '0x4aa42145aa6ebf72e164c9bbc74fbd3788045016': {'href': 'poa-network bridge ', 'title': 'POA Network xDAI Bridge'}, '0xff26d7d5710b916b62c8317c9228c06a38446203': {'href': '', 'title': 'Contract Address 0xff26d7d5710b916b62c8317c9228c06a38446203'}, '0x0b54420ee63aa04da4cc87064142c6e64b70bb94': {'href': '', 'title': 'Address 0x0b54420ee63aa04da4cc87064142c6e64b70bb94'}, '0xe82906b6b1b04f631d126c974af57a3a7b6a99d9': {'href': '', 'title': 'ClipperPool'}, '0xe592427a0aece92de3edee1f18e0157c05861564': {'href': 'uniswap ', 'title': 'Uniswap V3 Router'}, '0x66c57bf505a85a74609d2c83e94aabb26d691e1f': {'href': '', 'title': 'Address 0x66c57bf505a85a74609d2c83e94aabb26d691e1f'}, '0xc491405d542a393d8d202a72f0fb076447e61891': {'href': 'uniswap ', 'title': 'Uniswap V2 WHACKD 2'}, '0x40ec5b33f54e0e8a33a975908c5ba1c14e5bbbdf': {'href': 'polygon-matic bridge ', 'title': 'Polygon Matic ERC20 Bridge'}, '0x5f65f7b609678448494de4c87521cdf6cef1e932': {'href': 'gemini ', 'title': 'Gemini 4'}, '0x5d3a536e4d6dbd6114cc1ead35777bab948e3643': {'href': 'compound token-contract ', 'title': 'Compound cDAI Token'}, '0x9cd83be15a79646a3d22b81fc8ddf7b7240a62cb': {'href': '', 'title': 'Address 0x9cd83be15a79646a3d22b81fc8ddf7b7240a62cb'}, '0x22f9dcf4647084d6c31b2765f6910cd85c178c18': {'href': '', 'title': 'FlashWallet'}, '0x8faf958e36c6970497386118030e6297fff8d275': {'href': '', 'title': 'UniswapV2Pair'}, '0x397ff1542f962076d0bfe58ea045ffa2d347aca0': {'href': 'sushiswap ', 'title': 'SushiSwap USDC'}, '0x6bd7f00fc00b547f4a7aad20f9a6511c8ae13087': {'href': '', 'title': 'Address 0x6bd7f00fc00b547f4a7aad20f9a6511c8ae13087'}, '0x2faf487a4414fe77e2327f0bf4ae2a264a776ad2': {'href': 'ftx exchange ', 'title': 'Address 0x2faf487a4414fe77e2327f0bf4ae2a264a776ad2'}}\n"
     ]
    }
   ],
   "source": [
    "dai_analyser.calculate_pageRank_centrality_for_all_nodes()\n",
    "address_owners = {}\n",
    "url_start = \"https://etherscan.io/address/\"\n",
    "for index, row in dai_analyser.pageRank_centrality_score_by_node.head(30).iterrows():\n",
    "    address = row[\"address\"]\n",
    "    parser = etherscanParser(\"https://etherscan.io/address/\" + address)\n",
    "    address_owners[address] = {}\n",
    "    address_owners[address]['href'] = parser.get_labels_through_href() \n",
    "    address_owners[address]['title'] = parser.get_address_name() \n",
    "print(address_owners)"
   ]
  },
  {
   "cell_type": "code",
   "execution_count": 108,
   "metadata": {},
   "outputs": [
    {
     "name": "stdout",
     "output_type": "stream",
     "text": [
      "[[0 0 2 3 0 5 0 3 0 3 2 0 0 0 2 0 1 4 0 4 0 3 2 5 0 4 0 0 2 3]\n",
      " [2 0 2 5 0 7 0 3 0 5 4 0 0 0 4 0 3 6 0 3 0 2 4 4 0 6 0 0 4 2]\n",
      " [3 0 0 6 0 8 0 3 0 6 5 0 0 0 3 0 4 7 0 4 0 3 2 3 0 7 0 0 2 2]\n",
      " [4 0 2 0 0 2 0 2 0 2 6 0 0 0 5 0 5 1 0 3 0 2 3 2 0 3 0 0 4 2]\n",
      " [5 0 2 2 0 4 0 3 0 1 7 0 0 0 2 0 6 3 0 2 0 2 4 4 0 2 0 0 4 4]\n",
      " [4 0 4 7 0 0 0 6 0 7 6 0 0 0 6 0 5 1 0 3 0 2 4 4 0 8 0 0 6 6]\n",
      " [5 0 4 4 2 1 0 5 0 3 7 0 0 0 4 1 6 2 0 4 0 3 5 5 0 4 0 0 6 6]\n",
      " [2 0 4 5 0 7 0 0 0 5 4 0 0 0 4 0 3 6 0 5 0 2 4 4 0 6 0 0 4 5]\n",
      " [4 0 2 2 0 4 0 2 0 1 6 0 0 0 4 0 5 3 0 4 0 4 4 4 0 2 0 0 4 4]\n",
      " [4 0 3 1 0 3 0 2 0 0 6 0 0 0 3 0 5 2 0 3 0 3 4 3 0 1 0 0 5 3]\n",
      " [5 0 3 1 0 3 0 3 0 2 0 0 0 0 5 0 6 2 0 4 0 3 4 3 0 3 0 0 5 3]\n",
      " [2 0 2 5 0 7 0 5 0 5 4 0 0 0 4 0 3 6 0 4 0 5 2 3 0 6 0 0 4 4]\n",
      " [5 0 3 3 0 5 0 3 1 2 7 0 0 0 5 0 6 4 0 5 0 5 5 5 0 3 0 0 5 5]\n",
      " [6 0 3 3 1 5 0 4 0 2 8 0 0 0 3 0 7 4 0 3 0 3 5 5 0 3 0 0 5 5]\n",
      " [3 0 2 6 0 8 0 5 0 6 5 0 0 0 0 0 4 7 0 2 0 5 2 5 0 7 0 0 4 2]\n",
      " [6 0 3 3 1 5 0 4 0 2 8 0 0 0 3 0 7 4 0 3 0 3 5 5 0 3 0 0 5 5]\n",
      " [6 0 4 2 0 4 0 4 0 3 1 0 0 0 6 0 0 3 0 5 0 4 5 4 0 4 0 0 6 4]\n",
      " [8 0 6 11 0 13 0 7 0 11 10 0 0 0 7 0 9 0 0 4 0 9 6 7 0 12 0 0 8 8]\n",
      " [5 0 3 8 0 10 0 3 0 8 7 0 0 0 6 0 6 9 0 3 0 5 5 6 0 9 0 0 5 3]\n",
      " [4 0 2 7 0 9 0 3 0 7 6 0 0 0 3 0 5 8 0 0 0 5 2 3 0 8 0 0 4 4]\n",
      " [0 0 0 0 0 0 0 0 0 0 0 0 0 0 0 0 0 0 0 0 0 0 0 0 0 0 0 0 0 0]\n",
      " [3 0 2 6 0 8 0 4 0 5 5 0 0 0 5 0 4 7 0 4 0 0 2 2 0 6 0 0 4 4]\n",
      " [2 0 2 5 0 7 0 5 0 5 4 0 0 0 4 0 3 6 0 2 0 5 0 5 0 6 0 0 4 2]\n",
      " [4 0 2 7 0 9 0 2 0 7 6 0 0 0 5 0 5 8 0 6 0 2 4 0 0 8 0 0 4 2]\n",
      " [2 0 2 5 0 7 0 5 0 5 4 0 0 0 4 0 3 2 0 4 0 5 4 5 0 6 0 0 4 4]\n",
      " [5 0 4 8 0 10 0 6 0 7 7 0 0 0 2 0 6 9 0 3 0 2 4 4 0 0 0 0 6 4]\n",
      " [5 0 2 3 0 1 0 4 0 2 7 0 0 0 5 0 6 2 0 3 0 3 4 5 0 3 0 0 4 4]\n",
      " [5 0 5 8 0 1 0 7 0 8 7 0 0 0 7 0 6 2 0 4 0 3 5 5 0 9 0 0 7 7]\n",
      " [2 0 2 5 0 7 0 5 0 5 4 0 0 0 4 0 3 6 0 6 0 5 4 5 0 6 0 0 0 4]\n",
      " [3 0 2 6 0 8 0 5 0 6 5 0 0 0 5 0 4 7 0 6 0 3 4 5 0 7 0 0 4 0]]\n"
     ]
    }
   ],
   "source": [
    "shortest_paths_df = pd.DataFrame(columns = address_owners.keys(), index = address_owners.keys())\n",
    "    \n",
    "for address1 in address_owners:\n",
    "    for address2 in address_owners:\n",
    "        if(address1 == address2):\n",
    "            shortest_paths_df[address1][address2] = 0\n",
    "        else:\n",
    "            shortest_path = dai_analyser.find_shortest_path(address1, address2)\n",
    "            if(len(shortest_path) == 0):\n",
    "                shortest_paths_df[address1][address2] = 0\n",
    "            else:\n",
    "                shortest_paths_df[address1][address2] = len(shortest_path) - 1\n",
    "        \n",
    "#print(shortest_paths_df.head(30))\n",
    "df_copy = shortest_paths_df\n",
    "print(df_copy.to_numpy())"
   ]
  },
  {
   "cell_type": "code",
   "execution_count": 115,
   "metadata": {},
   "outputs": [
    {
     "name": "stdout",
     "output_type": "stream",
     "text": [
      "mean:  2.3555555555555556  sd:  2.6390701692120113  median: 2.0\n"
     ]
    }
   ],
   "source": [
    "np_shortest = df_copy.to_numpy()\n",
    "all_shortest = np_shortest.flatten()\n",
    "mean = np.mean(all_shortest)\n",
    "sd = np.std(all_shortest)\n",
    "median = np.median(all_shortest)\n",
    "\n",
    "print(\"mean: \", mean, \" sd: \", sd, \" median:\", median)"
   ]
  },
  {
   "cell_type": "code",
   "execution_count": 118,
   "metadata": {},
   "outputs": [
    {
     "name": "stdout",
     "output_type": "stream",
     "text": [
      "{'0x28c6c06298d514db089934071355e5743bf21d60': {'href': 'binance exchange ', 'title': 'None'}, '0x34d7d7aaf50ad4944b70b320acb24c95fa2def7c': {'href': 'sushiswap ', 'title': 'SushiSwap OHMDAI 2'}, '0x503828976d22510aad0201ac7ec88293211d23da': {'href': 'coinbase ', 'title': 'None'}, '0x74de5d4fcbf63e00296fd95d33236b9794016631': {'href': '', 'title': 'None'}, '0xa478c2975ab1ea89e8196811f51a7b7ade33eb11': {'href': 'uniswap ', 'title': 'Uniswap V2 DAI 2'}, '0xfd3dfb524b2da40c8a6d703c62be36b5d8540626': {'href': '', 'title': 'None'}, '0x06da0fd433c1a5d7a4faa01111c044910a184553': {'href': 'sushiswap ', 'title': 'SushiSwap USDT'}, '0x0000000000000000000000000000000000000000': {'href': 'blocked ', 'title': 'None'}, '0xc3d03e4f041fd4cd388c549ee2a29a9e5075882f': {'href': 'sushiswap ', 'title': 'SushiSwap DAI'}, '0x0000006daea1723962647b7e189d311d757fb793': {'href': '', 'title': 'Wintermute'}, '0xa5d07e978398eb1715056d3ca5cb31035c02fdad': {'href': '', 'title': 'None'}, '0x2a549b4af9ec39b03142da6dc32221fc390b5533': {'href': 'blockfi ', 'title': 'BlockFi 3'}, '0x0c9d28f3d6a076484a357ad75a6a3b4df71c3f87': {'href': '', 'title': 'None'}, '0xd1a1a62a01db5d40f7de05142c29ed74dacb0779': {'href': '', 'title': 'None'}, '0x4aa42145aa6ebf72e164c9bbc74fbd3788045016': {'href': 'poa-network bridge ', 'title': 'POA Network xDAI Bridge'}, '0xff26d7d5710b916b62c8317c9228c06a38446203': {'href': '', 'title': 'None'}, '0x0b54420ee63aa04da4cc87064142c6e64b70bb94': {'href': '', 'title': 'None'}, '0xe82906b6b1b04f631d126c974af57a3a7b6a99d9': {'href': '', 'title': 'ClipperPool'}, '0xe592427a0aece92de3edee1f18e0157c05861564': {'href': 'uniswap ', 'title': 'Uniswap V3 Router'}, '0x66c57bf505a85a74609d2c83e94aabb26d691e1f': {'href': '', 'title': 'None'}, '0xc491405d542a393d8d202a72f0fb076447e61891': {'href': 'uniswap ', 'title': 'Uniswap V2 WHACKD 2'}, '0x40ec5b33f54e0e8a33a975908c5ba1c14e5bbbdf': {'href': 'polygon-matic bridge ', 'title': 'Polygon Matic ERC20 Bridge'}, '0x5f65f7b609678448494de4c87521cdf6cef1e932': {'href': 'gemini ', 'title': 'Gemini 4'}, '0x5d3a536e4d6dbd6114cc1ead35777bab948e3643': {'href': 'compound token-contract ', 'title': 'Compound cDAI Token'}, '0x9cd83be15a79646a3d22b81fc8ddf7b7240a62cb': {'href': '', 'title': 'None'}, '0x22f9dcf4647084d6c31b2765f6910cd85c178c18': {'href': '', 'title': 'FlashWallet'}, '0x8faf958e36c6970497386118030e6297fff8d275': {'href': '', 'title': 'UniswapV2Pair'}, '0x397ff1542f962076d0bfe58ea045ffa2d347aca0': {'href': 'sushiswap ', 'title': 'SushiSwap USDC'}, '0x6bd7f00fc00b547f4a7aad20f9a6511c8ae13087': {'href': '', 'title': 'None'}, '0x2faf487a4414fe77e2327f0bf4ae2a264a776ad2': {'href': 'ftx exchange ', 'title': 'None'}}\n"
     ]
    }
   ],
   "source": [
    "# cleaning\n",
    "for address in address_owners:\n",
    "    if \"Address\" in address_owners[address]['title'] or 'Ethereum Accoun' in address_owners[address]['title']:\n",
    "        address_owners[address]['title'] = \"None\"\n",
    "print(address_owners)"
   ]
  },
  {
   "cell_type": "code",
   "execution_count": 119,
   "metadata": {},
   "outputs": [
    {
     "name": "stdout",
     "output_type": "stream",
     "text": [
      "address connected by one edge\n",
      "0x74de5d4fcbf63e00296fd95d33236b9794016631 0x0000006daea1723962647b7e189d311d757fb793\n",
      "address1 owner:\n",
      "{'href': '', 'title': 'None'}\n",
      "address2 owner:\n",
      "{'href': '', 'title': 'Wintermute'}\n",
      "-----------------------------------------------------\n",
      "0x74de5d4fcbf63e00296fd95d33236b9794016631 0xa5d07e978398eb1715056d3ca5cb31035c02fdad\n",
      "address1 owner:\n",
      "{'href': '', 'title': 'None'}\n",
      "address2 owner:\n",
      "{'href': '', 'title': 'None'}\n",
      "-----------------------------------------------------\n",
      "0xa478c2975ab1ea89e8196811f51a7b7ade33eb11 0xd1a1a62a01db5d40f7de05142c29ed74dacb0779\n",
      "address1 owner:\n",
      "{'href': 'uniswap ', 'title': 'Uniswap V2 DAI 2'}\n",
      "address2 owner:\n",
      "{'href': '', 'title': 'None'}\n",
      "-----------------------------------------------------\n",
      "0xa478c2975ab1ea89e8196811f51a7b7ade33eb11 0xff26d7d5710b916b62c8317c9228c06a38446203\n",
      "address1 owner:\n",
      "{'href': 'uniswap ', 'title': 'Uniswap V2 DAI 2'}\n",
      "address2 owner:\n",
      "{'href': '', 'title': 'None'}\n",
      "-----------------------------------------------------\n",
      "0xfd3dfb524b2da40c8a6d703c62be36b5d8540626 0x06da0fd433c1a5d7a4faa01111c044910a184553\n",
      "address1 owner:\n",
      "{'href': '', 'title': 'None'}\n",
      "address2 owner:\n",
      "{'href': 'sushiswap ', 'title': 'SushiSwap USDT'}\n",
      "-----------------------------------------------------\n",
      "0xfd3dfb524b2da40c8a6d703c62be36b5d8540626 0x8faf958e36c6970497386118030e6297fff8d275\n",
      "address1 owner:\n",
      "{'href': '', 'title': 'None'}\n",
      "address2 owner:\n",
      "{'href': '', 'title': 'UniswapV2Pair'}\n",
      "-----------------------------------------------------\n",
      "0xfd3dfb524b2da40c8a6d703c62be36b5d8540626 0x397ff1542f962076d0bfe58ea045ffa2d347aca0\n",
      "address1 owner:\n",
      "{'href': '', 'title': 'None'}\n",
      "address2 owner:\n",
      "{'href': 'sushiswap ', 'title': 'SushiSwap USDC'}\n",
      "-----------------------------------------------------\n",
      "0xc3d03e4f041fd4cd388c549ee2a29a9e5075882f 0x0c9d28f3d6a076484a357ad75a6a3b4df71c3f87\n",
      "address1 owner:\n",
      "{'href': 'sushiswap ', 'title': 'SushiSwap DAI'}\n",
      "address2 owner:\n",
      "{'href': '', 'title': 'None'}\n",
      "-----------------------------------------------------\n",
      "0x0000006daea1723962647b7e189d311d757fb793 0xa478c2975ab1ea89e8196811f51a7b7ade33eb11\n",
      "address1 owner:\n",
      "{'href': '', 'title': 'Wintermute'}\n",
      "address2 owner:\n",
      "{'href': 'uniswap ', 'title': 'Uniswap V2 DAI 2'}\n",
      "-----------------------------------------------------\n",
      "0x0000006daea1723962647b7e189d311d757fb793 0xc3d03e4f041fd4cd388c549ee2a29a9e5075882f\n",
      "address1 owner:\n",
      "{'href': '', 'title': 'Wintermute'}\n",
      "address2 owner:\n",
      "{'href': 'sushiswap ', 'title': 'SushiSwap DAI'}\n",
      "-----------------------------------------------------\n",
      "0xa5d07e978398eb1715056d3ca5cb31035c02fdad 0x0b54420ee63aa04da4cc87064142c6e64b70bb94\n",
      "address1 owner:\n",
      "{'href': '', 'title': 'None'}\n",
      "address2 owner:\n",
      "{'href': '', 'title': 'None'}\n",
      "-----------------------------------------------------\n",
      "0xff26d7d5710b916b62c8317c9228c06a38446203 0x06da0fd433c1a5d7a4faa01111c044910a184553\n",
      "address1 owner:\n",
      "{'href': '', 'title': 'None'}\n",
      "address2 owner:\n",
      "{'href': 'sushiswap ', 'title': 'SushiSwap USDT'}\n",
      "-----------------------------------------------------\n",
      "0x0b54420ee63aa04da4cc87064142c6e64b70bb94 0x28c6c06298d514db089934071355e5743bf21d60\n",
      "address1 owner:\n",
      "{'href': '', 'title': 'None'}\n",
      "address2 owner:\n",
      "{'href': 'binance exchange ', 'title': 'None'}\n",
      "-----------------------------------------------------\n",
      "0xe82906b6b1b04f631d126c974af57a3a7b6a99d9 0x74de5d4fcbf63e00296fd95d33236b9794016631\n",
      "address1 owner:\n",
      "{'href': '', 'title': 'ClipperPool'}\n",
      "address2 owner:\n",
      "{'href': '', 'title': 'None'}\n",
      "-----------------------------------------------------\n",
      "0xe82906b6b1b04f631d126c974af57a3a7b6a99d9 0xfd3dfb524b2da40c8a6d703c62be36b5d8540626\n",
      "address1 owner:\n",
      "{'href': '', 'title': 'ClipperPool'}\n",
      "address2 owner:\n",
      "{'href': '', 'title': 'None'}\n",
      "-----------------------------------------------------\n",
      "0x22f9dcf4647084d6c31b2765f6910cd85c178c18 0x0000006daea1723962647b7e189d311d757fb793\n",
      "address1 owner:\n",
      "{'href': '', 'title': 'FlashWallet'}\n",
      "address2 owner:\n",
      "{'href': '', 'title': 'Wintermute'}\n",
      "-----------------------------------------------------\n"
     ]
    }
   ],
   "source": [
    "print(\"address connected by one edge\")\n",
    "for address1 in address_owners:\n",
    "    for address2 in address_owners:\n",
    "        if(shortest_paths_df[address1][address2] == 1):\n",
    "            print(address1, address2)\n",
    "            print(\"address1 owner:\")\n",
    "            print(address_owners[address1])\n",
    "            print(\"address2 owner:\")\n",
    "            print(address_owners[address2])    \n",
    "            print(\"-----------------------------------------------------\")\n",
    "            "
   ]
  },
  {
   "cell_type": "code",
   "execution_count": 120,
   "metadata": {},
   "outputs": [
    {
     "name": "stdout",
     "output_type": "stream",
     "text": [
      "address connected by two edges\n",
      "0x28c6c06298d514db089934071355e5743bf21d60 0x34d7d7aaf50ad4944b70b320acb24c95fa2def7c\n",
      "address1 owner:\n",
      "{'href': 'binance exchange ', 'title': 'None'}\n",
      "address2 owner:\n",
      "{'href': 'sushiswap ', 'title': 'SushiSwap OHMDAI 2'}\n",
      "-----------------------------------------------------\n",
      "0x28c6c06298d514db089934071355e5743bf21d60 0x0000000000000000000000000000000000000000\n",
      "address1 owner:\n",
      "{'href': 'binance exchange ', 'title': 'None'}\n",
      "address2 owner:\n",
      "{'href': 'blocked ', 'title': 'None'}\n",
      "-----------------------------------------------------\n",
      "0x28c6c06298d514db089934071355e5743bf21d60 0x2a549b4af9ec39b03142da6dc32221fc390b5533\n",
      "address1 owner:\n",
      "{'href': 'binance exchange ', 'title': 'None'}\n",
      "address2 owner:\n",
      "{'href': 'blockfi ', 'title': 'BlockFi 3'}\n",
      "-----------------------------------------------------\n",
      "0x28c6c06298d514db089934071355e5743bf21d60 0x5f65f7b609678448494de4c87521cdf6cef1e932\n",
      "address1 owner:\n",
      "{'href': 'binance exchange ', 'title': 'None'}\n",
      "address2 owner:\n",
      "{'href': 'gemini ', 'title': 'Gemini 4'}\n",
      "-----------------------------------------------------\n",
      "0x28c6c06298d514db089934071355e5743bf21d60 0x9cd83be15a79646a3d22b81fc8ddf7b7240a62cb\n",
      "address1 owner:\n",
      "{'href': 'binance exchange ', 'title': 'None'}\n",
      "address2 owner:\n",
      "{'href': '', 'title': 'None'}\n",
      "-----------------------------------------------------\n",
      "0x28c6c06298d514db089934071355e5743bf21d60 0x6bd7f00fc00b547f4a7aad20f9a6511c8ae13087\n",
      "address1 owner:\n",
      "{'href': 'binance exchange ', 'title': 'None'}\n",
      "address2 owner:\n",
      "{'href': '', 'title': 'None'}\n",
      "-----------------------------------------------------\n",
      "0x503828976d22510aad0201ac7ec88293211d23da 0x28c6c06298d514db089934071355e5743bf21d60\n",
      "address1 owner:\n",
      "{'href': 'coinbase ', 'title': 'None'}\n",
      "address2 owner:\n",
      "{'href': 'binance exchange ', 'title': 'None'}\n",
      "-----------------------------------------------------\n",
      "0x503828976d22510aad0201ac7ec88293211d23da 0x34d7d7aaf50ad4944b70b320acb24c95fa2def7c\n",
      "address1 owner:\n",
      "{'href': 'coinbase ', 'title': 'None'}\n",
      "address2 owner:\n",
      "{'href': 'sushiswap ', 'title': 'SushiSwap OHMDAI 2'}\n",
      "-----------------------------------------------------\n",
      "0x503828976d22510aad0201ac7ec88293211d23da 0x74de5d4fcbf63e00296fd95d33236b9794016631\n",
      "address1 owner:\n",
      "{'href': 'coinbase ', 'title': 'None'}\n",
      "address2 owner:\n",
      "{'href': '', 'title': 'None'}\n",
      "-----------------------------------------------------\n",
      "0x503828976d22510aad0201ac7ec88293211d23da 0xa478c2975ab1ea89e8196811f51a7b7ade33eb11\n",
      "address1 owner:\n",
      "{'href': 'coinbase ', 'title': 'None'}\n",
      "address2 owner:\n",
      "{'href': 'uniswap ', 'title': 'Uniswap V2 DAI 2'}\n",
      "-----------------------------------------------------\n",
      "0x503828976d22510aad0201ac7ec88293211d23da 0xc3d03e4f041fd4cd388c549ee2a29a9e5075882f\n",
      "address1 owner:\n",
      "{'href': 'coinbase ', 'title': 'None'}\n",
      "address2 owner:\n",
      "{'href': 'sushiswap ', 'title': 'SushiSwap DAI'}\n",
      "-----------------------------------------------------\n",
      "0x503828976d22510aad0201ac7ec88293211d23da 0x2a549b4af9ec39b03142da6dc32221fc390b5533\n",
      "address1 owner:\n",
      "{'href': 'coinbase ', 'title': 'None'}\n",
      "address2 owner:\n",
      "{'href': 'blockfi ', 'title': 'BlockFi 3'}\n",
      "-----------------------------------------------------\n",
      "0x503828976d22510aad0201ac7ec88293211d23da 0x4aa42145aa6ebf72e164c9bbc74fbd3788045016\n",
      "address1 owner:\n",
      "{'href': 'coinbase ', 'title': 'None'}\n",
      "address2 owner:\n",
      "{'href': 'poa-network bridge ', 'title': 'POA Network xDAI Bridge'}\n",
      "-----------------------------------------------------\n",
      "0x503828976d22510aad0201ac7ec88293211d23da 0x66c57bf505a85a74609d2c83e94aabb26d691e1f\n",
      "address1 owner:\n",
      "{'href': 'coinbase ', 'title': 'None'}\n",
      "address2 owner:\n",
      "{'href': '', 'title': 'None'}\n",
      "-----------------------------------------------------\n",
      "0x503828976d22510aad0201ac7ec88293211d23da 0x40ec5b33f54e0e8a33a975908c5ba1c14e5bbbdf\n",
      "address1 owner:\n",
      "{'href': 'coinbase ', 'title': 'None'}\n",
      "address2 owner:\n",
      "{'href': 'polygon-matic bridge ', 'title': 'Polygon Matic ERC20 Bridge'}\n",
      "-----------------------------------------------------\n",
      "0x503828976d22510aad0201ac7ec88293211d23da 0x5f65f7b609678448494de4c87521cdf6cef1e932\n",
      "address1 owner:\n",
      "{'href': 'coinbase ', 'title': 'None'}\n",
      "address2 owner:\n",
      "{'href': 'gemini ', 'title': 'Gemini 4'}\n",
      "-----------------------------------------------------\n",
      "0x503828976d22510aad0201ac7ec88293211d23da 0x5d3a536e4d6dbd6114cc1ead35777bab948e3643\n",
      "address1 owner:\n",
      "{'href': 'coinbase ', 'title': 'None'}\n",
      "address2 owner:\n",
      "{'href': 'compound token-contract ', 'title': 'Compound cDAI Token'}\n",
      "-----------------------------------------------------\n",
      "0x503828976d22510aad0201ac7ec88293211d23da 0x9cd83be15a79646a3d22b81fc8ddf7b7240a62cb\n",
      "address1 owner:\n",
      "{'href': 'coinbase ', 'title': 'None'}\n",
      "address2 owner:\n",
      "{'href': '', 'title': 'None'}\n",
      "-----------------------------------------------------\n",
      "0x503828976d22510aad0201ac7ec88293211d23da 0x8faf958e36c6970497386118030e6297fff8d275\n",
      "address1 owner:\n",
      "{'href': 'coinbase ', 'title': 'None'}\n",
      "address2 owner:\n",
      "{'href': '', 'title': 'UniswapV2Pair'}\n",
      "-----------------------------------------------------\n",
      "0x503828976d22510aad0201ac7ec88293211d23da 0x6bd7f00fc00b547f4a7aad20f9a6511c8ae13087\n",
      "address1 owner:\n",
      "{'href': 'coinbase ', 'title': 'None'}\n",
      "address2 owner:\n",
      "{'href': '', 'title': 'None'}\n",
      "-----------------------------------------------------\n",
      "0x503828976d22510aad0201ac7ec88293211d23da 0x2faf487a4414fe77e2327f0bf4ae2a264a776ad2\n",
      "address1 owner:\n",
      "{'href': 'coinbase ', 'title': 'None'}\n",
      "address2 owner:\n",
      "{'href': 'ftx exchange ', 'title': 'None'}\n",
      "-----------------------------------------------------\n",
      "0x74de5d4fcbf63e00296fd95d33236b9794016631 0xa478c2975ab1ea89e8196811f51a7b7ade33eb11\n",
      "address1 owner:\n",
      "{'href': '', 'title': 'None'}\n",
      "address2 owner:\n",
      "{'href': 'uniswap ', 'title': 'Uniswap V2 DAI 2'}\n",
      "-----------------------------------------------------\n",
      "0x74de5d4fcbf63e00296fd95d33236b9794016631 0xc3d03e4f041fd4cd388c549ee2a29a9e5075882f\n",
      "address1 owner:\n",
      "{'href': '', 'title': 'None'}\n",
      "address2 owner:\n",
      "{'href': 'sushiswap ', 'title': 'SushiSwap DAI'}\n",
      "-----------------------------------------------------\n",
      "0x74de5d4fcbf63e00296fd95d33236b9794016631 0x0b54420ee63aa04da4cc87064142c6e64b70bb94\n",
      "address1 owner:\n",
      "{'href': '', 'title': 'None'}\n",
      "address2 owner:\n",
      "{'href': '', 'title': 'None'}\n",
      "-----------------------------------------------------\n",
      "0xa478c2975ab1ea89e8196811f51a7b7ade33eb11 0x06da0fd433c1a5d7a4faa01111c044910a184553\n",
      "address1 owner:\n",
      "{'href': 'uniswap ', 'title': 'Uniswap V2 DAI 2'}\n",
      "address2 owner:\n",
      "{'href': 'sushiswap ', 'title': 'SushiSwap USDT'}\n",
      "-----------------------------------------------------\n",
      "0xfd3dfb524b2da40c8a6d703c62be36b5d8540626 0x74de5d4fcbf63e00296fd95d33236b9794016631\n",
      "address1 owner:\n",
      "{'href': '', 'title': 'None'}\n",
      "address2 owner:\n",
      "{'href': '', 'title': 'None'}\n",
      "-----------------------------------------------------\n",
      "0x0000000000000000000000000000000000000000 0x74de5d4fcbf63e00296fd95d33236b9794016631\n",
      "address1 owner:\n",
      "{'href': 'blocked ', 'title': 'None'}\n",
      "address2 owner:\n",
      "{'href': '', 'title': 'None'}\n",
      "-----------------------------------------------------\n",
      "0x0000000000000000000000000000000000000000 0xc3d03e4f041fd4cd388c549ee2a29a9e5075882f\n",
      "address1 owner:\n",
      "{'href': 'blocked ', 'title': 'None'}\n",
      "address2 owner:\n",
      "{'href': 'sushiswap ', 'title': 'SushiSwap DAI'}\n",
      "-----------------------------------------------------\n",
      "0x0000000000000000000000000000000000000000 0x0000006daea1723962647b7e189d311d757fb793\n",
      "address1 owner:\n",
      "{'href': 'blocked ', 'title': 'None'}\n",
      "address2 owner:\n",
      "{'href': '', 'title': 'Wintermute'}\n",
      "-----------------------------------------------------\n",
      "0x0000000000000000000000000000000000000000 0x5d3a536e4d6dbd6114cc1ead35777bab948e3643\n",
      "address1 owner:\n",
      "{'href': 'blocked ', 'title': 'None'}\n",
      "address2 owner:\n",
      "{'href': 'compound token-contract ', 'title': 'Compound cDAI Token'}\n",
      "-----------------------------------------------------\n",
      "0x0000006daea1723962647b7e189d311d757fb793 0x74de5d4fcbf63e00296fd95d33236b9794016631\n",
      "address1 owner:\n",
      "{'href': '', 'title': 'Wintermute'}\n",
      "address2 owner:\n",
      "{'href': '', 'title': 'None'}\n",
      "-----------------------------------------------------\n",
      "0x0000006daea1723962647b7e189d311d757fb793 0xa5d07e978398eb1715056d3ca5cb31035c02fdad\n",
      "address1 owner:\n",
      "{'href': '', 'title': 'Wintermute'}\n",
      "address2 owner:\n",
      "{'href': '', 'title': 'None'}\n",
      "-----------------------------------------------------\n",
      "0x0000006daea1723962647b7e189d311d757fb793 0x0c9d28f3d6a076484a357ad75a6a3b4df71c3f87\n",
      "address1 owner:\n",
      "{'href': '', 'title': 'Wintermute'}\n",
      "address2 owner:\n",
      "{'href': '', 'title': 'None'}\n",
      "-----------------------------------------------------\n",
      "0x0000006daea1723962647b7e189d311d757fb793 0xd1a1a62a01db5d40f7de05142c29ed74dacb0779\n",
      "address1 owner:\n",
      "{'href': '', 'title': 'Wintermute'}\n",
      "address2 owner:\n",
      "{'href': '', 'title': 'None'}\n",
      "-----------------------------------------------------\n",
      "0x0000006daea1723962647b7e189d311d757fb793 0xff26d7d5710b916b62c8317c9228c06a38446203\n",
      "address1 owner:\n",
      "{'href': '', 'title': 'Wintermute'}\n",
      "address2 owner:\n",
      "{'href': '', 'title': 'None'}\n",
      "-----------------------------------------------------\n",
      "0x0000006daea1723962647b7e189d311d757fb793 0x8faf958e36c6970497386118030e6297fff8d275\n",
      "address1 owner:\n",
      "{'href': '', 'title': 'Wintermute'}\n",
      "address2 owner:\n",
      "{'href': '', 'title': 'UniswapV2Pair'}\n",
      "-----------------------------------------------------\n",
      "0xa5d07e978398eb1715056d3ca5cb31035c02fdad 0x28c6c06298d514db089934071355e5743bf21d60\n",
      "address1 owner:\n",
      "{'href': '', 'title': 'None'}\n",
      "address2 owner:\n",
      "{'href': 'binance exchange ', 'title': 'None'}\n",
      "-----------------------------------------------------\n",
      "0x4aa42145aa6ebf72e164c9bbc74fbd3788045016 0x28c6c06298d514db089934071355e5743bf21d60\n",
      "address1 owner:\n",
      "{'href': 'poa-network bridge ', 'title': 'POA Network xDAI Bridge'}\n",
      "address2 owner:\n",
      "{'href': 'binance exchange ', 'title': 'None'}\n",
      "-----------------------------------------------------\n",
      "0x4aa42145aa6ebf72e164c9bbc74fbd3788045016 0xa478c2975ab1ea89e8196811f51a7b7ade33eb11\n",
      "address1 owner:\n",
      "{'href': 'poa-network bridge ', 'title': 'POA Network xDAI Bridge'}\n",
      "address2 owner:\n",
      "{'href': 'uniswap ', 'title': 'Uniswap V2 DAI 2'}\n",
      "-----------------------------------------------------\n",
      "0x4aa42145aa6ebf72e164c9bbc74fbd3788045016 0x22f9dcf4647084d6c31b2765f6910cd85c178c18\n",
      "address1 owner:\n",
      "{'href': 'poa-network bridge ', 'title': 'POA Network xDAI Bridge'}\n",
      "address2 owner:\n",
      "{'href': '', 'title': 'FlashWallet'}\n",
      "-----------------------------------------------------\n",
      "0xe82906b6b1b04f631d126c974af57a3a7b6a99d9 0x06da0fd433c1a5d7a4faa01111c044910a184553\n",
      "address1 owner:\n",
      "{'href': '', 'title': 'ClipperPool'}\n",
      "address2 owner:\n",
      "{'href': 'sushiswap ', 'title': 'SushiSwap USDT'}\n",
      "-----------------------------------------------------\n",
      "0xe82906b6b1b04f631d126c974af57a3a7b6a99d9 0x0000006daea1723962647b7e189d311d757fb793\n",
      "address1 owner:\n",
      "{'href': '', 'title': 'ClipperPool'}\n",
      "address2 owner:\n",
      "{'href': '', 'title': 'Wintermute'}\n",
      "-----------------------------------------------------\n",
      "0xe82906b6b1b04f631d126c974af57a3a7b6a99d9 0xa5d07e978398eb1715056d3ca5cb31035c02fdad\n",
      "address1 owner:\n",
      "{'href': '', 'title': 'ClipperPool'}\n",
      "address2 owner:\n",
      "{'href': '', 'title': 'None'}\n",
      "-----------------------------------------------------\n",
      "0xe82906b6b1b04f631d126c974af57a3a7b6a99d9 0x9cd83be15a79646a3d22b81fc8ddf7b7240a62cb\n",
      "address1 owner:\n",
      "{'href': '', 'title': 'ClipperPool'}\n",
      "address2 owner:\n",
      "{'href': '', 'title': 'None'}\n",
      "-----------------------------------------------------\n",
      "0xe82906b6b1b04f631d126c974af57a3a7b6a99d9 0x8faf958e36c6970497386118030e6297fff8d275\n",
      "address1 owner:\n",
      "{'href': '', 'title': 'ClipperPool'}\n",
      "address2 owner:\n",
      "{'href': '', 'title': 'UniswapV2Pair'}\n",
      "-----------------------------------------------------\n",
      "0xe82906b6b1b04f631d126c974af57a3a7b6a99d9 0x397ff1542f962076d0bfe58ea045ffa2d347aca0\n",
      "address1 owner:\n",
      "{'href': '', 'title': 'ClipperPool'}\n",
      "address2 owner:\n",
      "{'href': 'sushiswap ', 'title': 'SushiSwap USDC'}\n",
      "-----------------------------------------------------\n",
      "0x66c57bf505a85a74609d2c83e94aabb26d691e1f 0xa478c2975ab1ea89e8196811f51a7b7ade33eb11\n",
      "address1 owner:\n",
      "{'href': '', 'title': 'None'}\n",
      "address2 owner:\n",
      "{'href': 'uniswap ', 'title': 'Uniswap V2 DAI 2'}\n",
      "-----------------------------------------------------\n",
      "0x66c57bf505a85a74609d2c83e94aabb26d691e1f 0x4aa42145aa6ebf72e164c9bbc74fbd3788045016\n",
      "address1 owner:\n",
      "{'href': '', 'title': 'None'}\n",
      "address2 owner:\n",
      "{'href': 'poa-network bridge ', 'title': 'POA Network xDAI Bridge'}\n",
      "-----------------------------------------------------\n",
      "0x66c57bf505a85a74609d2c83e94aabb26d691e1f 0x5f65f7b609678448494de4c87521cdf6cef1e932\n",
      "address1 owner:\n",
      "{'href': '', 'title': 'None'}\n",
      "address2 owner:\n",
      "{'href': 'gemini ', 'title': 'Gemini 4'}\n",
      "-----------------------------------------------------\n",
      "0x40ec5b33f54e0e8a33a975908c5ba1c14e5bbbdf 0x34d7d7aaf50ad4944b70b320acb24c95fa2def7c\n",
      "address1 owner:\n",
      "{'href': 'polygon-matic bridge ', 'title': 'Polygon Matic ERC20 Bridge'}\n",
      "address2 owner:\n",
      "{'href': 'sushiswap ', 'title': 'SushiSwap OHMDAI 2'}\n",
      "-----------------------------------------------------\n",
      "0x40ec5b33f54e0e8a33a975908c5ba1c14e5bbbdf 0x74de5d4fcbf63e00296fd95d33236b9794016631\n",
      "address1 owner:\n",
      "{'href': 'polygon-matic bridge ', 'title': 'Polygon Matic ERC20 Bridge'}\n",
      "address2 owner:\n",
      "{'href': '', 'title': 'None'}\n",
      "-----------------------------------------------------\n",
      "0x40ec5b33f54e0e8a33a975908c5ba1c14e5bbbdf 0xa478c2975ab1ea89e8196811f51a7b7ade33eb11\n",
      "address1 owner:\n",
      "{'href': 'polygon-matic bridge ', 'title': 'Polygon Matic ERC20 Bridge'}\n",
      "address2 owner:\n",
      "{'href': 'uniswap ', 'title': 'Uniswap V2 DAI 2'}\n",
      "-----------------------------------------------------\n",
      "0x40ec5b33f54e0e8a33a975908c5ba1c14e5bbbdf 0xfd3dfb524b2da40c8a6d703c62be36b5d8540626\n",
      "address1 owner:\n",
      "{'href': 'polygon-matic bridge ', 'title': 'Polygon Matic ERC20 Bridge'}\n",
      "address2 owner:\n",
      "{'href': '', 'title': 'None'}\n",
      "-----------------------------------------------------\n",
      "0x40ec5b33f54e0e8a33a975908c5ba1c14e5bbbdf 0x0000000000000000000000000000000000000000\n",
      "address1 owner:\n",
      "{'href': 'polygon-matic bridge ', 'title': 'Polygon Matic ERC20 Bridge'}\n",
      "address2 owner:\n",
      "{'href': 'blocked ', 'title': 'None'}\n",
      "-----------------------------------------------------\n",
      "0x40ec5b33f54e0e8a33a975908c5ba1c14e5bbbdf 0x5d3a536e4d6dbd6114cc1ead35777bab948e3643\n",
      "address1 owner:\n",
      "{'href': 'polygon-matic bridge ', 'title': 'Polygon Matic ERC20 Bridge'}\n",
      "address2 owner:\n",
      "{'href': 'compound token-contract ', 'title': 'Compound cDAI Token'}\n",
      "-----------------------------------------------------\n",
      "0x40ec5b33f54e0e8a33a975908c5ba1c14e5bbbdf 0x22f9dcf4647084d6c31b2765f6910cd85c178c18\n",
      "address1 owner:\n",
      "{'href': 'polygon-matic bridge ', 'title': 'Polygon Matic ERC20 Bridge'}\n",
      "address2 owner:\n",
      "{'href': '', 'title': 'FlashWallet'}\n",
      "-----------------------------------------------------\n",
      "0x5f65f7b609678448494de4c87521cdf6cef1e932 0x28c6c06298d514db089934071355e5743bf21d60\n",
      "address1 owner:\n",
      "{'href': 'gemini ', 'title': 'Gemini 4'}\n",
      "address2 owner:\n",
      "{'href': 'binance exchange ', 'title': 'None'}\n",
      "-----------------------------------------------------\n",
      "0x5f65f7b609678448494de4c87521cdf6cef1e932 0x503828976d22510aad0201ac7ec88293211d23da\n",
      "address1 owner:\n",
      "{'href': 'gemini ', 'title': 'Gemini 4'}\n",
      "address2 owner:\n",
      "{'href': 'coinbase ', 'title': 'None'}\n",
      "-----------------------------------------------------\n",
      "0x5f65f7b609678448494de4c87521cdf6cef1e932 0x2a549b4af9ec39b03142da6dc32221fc390b5533\n",
      "address1 owner:\n",
      "{'href': 'gemini ', 'title': 'Gemini 4'}\n",
      "address2 owner:\n",
      "{'href': 'blockfi ', 'title': 'BlockFi 3'}\n",
      "-----------------------------------------------------\n",
      "0x5f65f7b609678448494de4c87521cdf6cef1e932 0x4aa42145aa6ebf72e164c9bbc74fbd3788045016\n",
      "address1 owner:\n",
      "{'href': 'gemini ', 'title': 'Gemini 4'}\n",
      "address2 owner:\n",
      "{'href': 'poa-network bridge ', 'title': 'POA Network xDAI Bridge'}\n",
      "-----------------------------------------------------\n",
      "0x5f65f7b609678448494de4c87521cdf6cef1e932 0x66c57bf505a85a74609d2c83e94aabb26d691e1f\n",
      "address1 owner:\n",
      "{'href': 'gemini ', 'title': 'Gemini 4'}\n",
      "address2 owner:\n",
      "{'href': '', 'title': 'None'}\n",
      "-----------------------------------------------------\n",
      "0x5f65f7b609678448494de4c87521cdf6cef1e932 0x40ec5b33f54e0e8a33a975908c5ba1c14e5bbbdf\n",
      "address1 owner:\n",
      "{'href': 'gemini ', 'title': 'Gemini 4'}\n",
      "address2 owner:\n",
      "{'href': 'polygon-matic bridge ', 'title': 'Polygon Matic ERC20 Bridge'}\n",
      "-----------------------------------------------------\n",
      "0x5d3a536e4d6dbd6114cc1ead35777bab948e3643 0x74de5d4fcbf63e00296fd95d33236b9794016631\n",
      "address1 owner:\n",
      "{'href': 'compound token-contract ', 'title': 'Compound cDAI Token'}\n",
      "address2 owner:\n",
      "{'href': '', 'title': 'None'}\n",
      "-----------------------------------------------------\n",
      "0x5d3a536e4d6dbd6114cc1ead35777bab948e3643 0x40ec5b33f54e0e8a33a975908c5ba1c14e5bbbdf\n",
      "address1 owner:\n",
      "{'href': 'compound token-contract ', 'title': 'Compound cDAI Token'}\n",
      "address2 owner:\n",
      "{'href': 'polygon-matic bridge ', 'title': 'Polygon Matic ERC20 Bridge'}\n",
      "-----------------------------------------------------\n",
      "0x22f9dcf4647084d6c31b2765f6910cd85c178c18 0xa478c2975ab1ea89e8196811f51a7b7ade33eb11\n",
      "address1 owner:\n",
      "{'href': '', 'title': 'FlashWallet'}\n",
      "address2 owner:\n",
      "{'href': 'uniswap ', 'title': 'Uniswap V2 DAI 2'}\n",
      "-----------------------------------------------------\n",
      "0x22f9dcf4647084d6c31b2765f6910cd85c178c18 0xc3d03e4f041fd4cd388c549ee2a29a9e5075882f\n",
      "address1 owner:\n",
      "{'href': '', 'title': 'FlashWallet'}\n",
      "address2 owner:\n",
      "{'href': 'sushiswap ', 'title': 'SushiSwap DAI'}\n",
      "-----------------------------------------------------\n",
      "0x6bd7f00fc00b547f4a7aad20f9a6511c8ae13087 0x28c6c06298d514db089934071355e5743bf21d60\n",
      "address1 owner:\n",
      "{'href': '', 'title': 'None'}\n",
      "address2 owner:\n",
      "{'href': 'binance exchange ', 'title': 'None'}\n",
      "-----------------------------------------------------\n",
      "0x6bd7f00fc00b547f4a7aad20f9a6511c8ae13087 0x503828976d22510aad0201ac7ec88293211d23da\n",
      "address1 owner:\n",
      "{'href': '', 'title': 'None'}\n",
      "address2 owner:\n",
      "{'href': 'coinbase ', 'title': 'None'}\n",
      "-----------------------------------------------------\n",
      "0x2faf487a4414fe77e2327f0bf4ae2a264a776ad2 0x34d7d7aaf50ad4944b70b320acb24c95fa2def7c\n",
      "address1 owner:\n",
      "{'href': 'ftx exchange ', 'title': 'None'}\n",
      "address2 owner:\n",
      "{'href': 'sushiswap ', 'title': 'SushiSwap OHMDAI 2'}\n",
      "-----------------------------------------------------\n",
      "0x2faf487a4414fe77e2327f0bf4ae2a264a776ad2 0x503828976d22510aad0201ac7ec88293211d23da\n",
      "address1 owner:\n",
      "{'href': 'ftx exchange ', 'title': 'None'}\n",
      "address2 owner:\n",
      "{'href': 'coinbase ', 'title': 'None'}\n",
      "-----------------------------------------------------\n",
      "0x2faf487a4414fe77e2327f0bf4ae2a264a776ad2 0x74de5d4fcbf63e00296fd95d33236b9794016631\n",
      "address1 owner:\n",
      "{'href': 'ftx exchange ', 'title': 'None'}\n",
      "address2 owner:\n",
      "{'href': '', 'title': 'None'}\n",
      "-----------------------------------------------------\n",
      "0x2faf487a4414fe77e2327f0bf4ae2a264a776ad2 0x4aa42145aa6ebf72e164c9bbc74fbd3788045016\n",
      "address1 owner:\n",
      "{'href': 'ftx exchange ', 'title': 'None'}\n",
      "address2 owner:\n",
      "{'href': 'poa-network bridge ', 'title': 'POA Network xDAI Bridge'}\n",
      "-----------------------------------------------------\n",
      "0x2faf487a4414fe77e2327f0bf4ae2a264a776ad2 0x5f65f7b609678448494de4c87521cdf6cef1e932\n",
      "address1 owner:\n",
      "{'href': 'ftx exchange ', 'title': 'None'}\n",
      "address2 owner:\n",
      "{'href': 'gemini ', 'title': 'Gemini 4'}\n",
      "-----------------------------------------------------\n",
      "0x2faf487a4414fe77e2327f0bf4ae2a264a776ad2 0x5d3a536e4d6dbd6114cc1ead35777bab948e3643\n",
      "address1 owner:\n",
      "{'href': 'ftx exchange ', 'title': 'None'}\n",
      "address2 owner:\n",
      "{'href': 'compound token-contract ', 'title': 'Compound cDAI Token'}\n",
      "-----------------------------------------------------\n"
     ]
    }
   ],
   "source": [
    "print(\"address connected by two edges\")\n",
    "for address1 in address_owners:\n",
    "    for address2 in address_owners:\n",
    "        if(shortest_paths_df[address1][address2] == 2):\n",
    "            print(address1, address2)\n",
    "            print(\"address1 owner:\")\n",
    "            print(address_owners[address1])\n",
    "            print(\"address2 owner:\")\n",
    "            print(address_owners[address2])    \n",
    "            print(\"-----------------------------------------------------\")\n",
    "            "
   ]
  },
  {
   "cell_type": "code",
   "execution_count": 158,
   "metadata": {},
   "outputs": [],
   "source": [
    "# find all shortests paths for all pairs\n",
    "l =[]\n",
    "shortest_paths_of_top_nodes = np.array(l)\n",
    "for address1 in address_owners:\n",
    "    for address2 in address_owners:\n",
    "        if(address1 != address2 and shortest_paths_df[address1][address2] > 0):\n",
    "            shortest_paths_of_top_nodes = np.append(shortest_paths_of_top_nodes, dai_analyser.find_all_shortest_paths(address1, address2))\n",
    "\n",
    "shortest_paths_of_top_nodes_flat = shortest_paths_of_top_nodes.flatten()\n"
   ]
  },
  {
   "cell_type": "code",
   "execution_count": 160,
   "metadata": {},
   "outputs": [
    {
     "name": "stdout",
     "output_type": "stream",
     "text": [
      "(10372,)\n",
      "0x503828976d22510aad0201ac7ec88293211d23da\n"
     ]
    }
   ],
   "source": [
    "print(shortest_paths_of_top_nodes_flat.shape)\n",
    "unique,pos = np.unique(shortest_paths_of_top_nodes_flat,return_inverse=True)\n",
    "counts = np.bincount(pos)\n",
    "print(unique[np.argmax(counts)])"
   ]
  },
  {
   "cell_type": "code",
   "execution_count": 9,
   "metadata": {},
   "outputs": [
    {
     "name": "stdout",
     "output_type": "stream",
     "text": [
      "                                         address  degreeCentrality\n",
      "0     0x503828976d22510aad0201ac7ec88293211d23da             193.0\n",
      "1     0x60594a405d53811d3bc4766596efd80fd545a270              87.0\n",
      "2     0x6c6bc977e13df9b0de53b251522280bb72383700              54.0\n",
      "3     0x0075f029648ffbd2026a7df1e9eff27ebc90ca65              50.0\n",
      "4     0x0000000000000000000000000000000000000000              49.0\n",
      "...                                          ...               ...\n",
      "3789  0xae05570e0a22e74458dbcd6c79ebd7432cc71f33               0.0\n",
      "3790  0xcb6338a15c6bc7b42cd740d6bcc0806b5cd93ca3               0.0\n",
      "3791  0x89920ecc950dbe5f6bd764e79bdc1957448f1109               0.0\n",
      "3792  0xb9b1fea4824dd6908c064def7409ef89a6d31f8c               0.0\n",
      "3793  0xe9370e68472e1d64c1bae41f906c3e9189130657               0.0\n",
      "\n",
      "[3794 rows x 2 columns]\n"
     ]
    }
   ],
   "source": [
    "print(analyser.centrality_score_by_node)"
   ]
  },
  {
   "cell_type": "code",
   "execution_count": 65,
   "metadata": {},
   "outputs": [
    {
     "name": "stdout",
     "output_type": "stream",
     "text": [
      "community id:  14   address: 0x503828976d22510aad0201ac7ec88293211d23da\n",
      "community id:  523   address: 0x60594a405d53811d3bc4766596efd80fd545a270\n",
      "community id:  3   address: 0x6c6bc977e13df9b0de53b251522280bb72383700\n",
      "community id:  238   address: 0x0075f029648ffbd2026a7df1e9eff27ebc90ca65\n",
      "community id:  189   address: 0x0000000000000000000000000000000000000000\n",
      "community id:  189   address: 0x40ec5b33f54e0e8a33a975908c5ba1c14e5bbbdf\n",
      "community id:  3   address: 0x6f48eca74b38d2936b02ab603ff4e36a6c0e3a77\n",
      "community id:  523   address: 0x28c6c06298d514db089934071355e5743bf21d60\n",
      "community id:  523   address: 0x21a31ee1afc51d94c2efccaa2092ad1028285549\n",
      "community id:  523   address: 0xdfd5293d8e347dfe59e90efd55b2956a1343963d\n",
      "community id:  523   address: 0x5f65f7b609678448494de4c87521cdf6cef1e932\n",
      "community id:  523   address: 0xd3e52099a6a48f132cb23b1364b7dee212d862f6\n",
      "community id:  189   address: 0x5d3a536e4d6dbd6114cc1ead35777bab948e3643\n",
      "community id:  189   address: 0xe82906b6b1b04f631d126c974af57a3a7b6a99d9\n",
      "community id:  523   address: 0x29d5527caa78f1946a409fa6acaf14a0a4a0274b\n"
     ]
    }
   ],
   "source": [
    "highest_centrality = analyser.centrality_score_by_node.nlargest(15, \"degreeCentrality\")\n",
    "for highest in highest_centrality.iterrows():\n",
    "    print(\"community id: \", analyser.get_node_community_id( highest[1][0])[0], \"  address:\", highest[1][0] )"
   ]
  },
  {
   "cell_type": "code",
   "execution_count": 30,
   "metadata": {},
   "outputs": [
    {
     "name": "stdout",
     "output_type": "stream",
     "text": [
      "Average Mutual Information\n"
     ]
    },
    {
     "data": {
      "image/png": "[encoded data removed]",
      "text/plain": [
       "<Figure size 432x288 with 1 Axes>"
      ]
     },
     "metadata": {
      "needs_background": "light"
     },
     "output_type": "display_data"
    },
    {
     "name": "stdout",
     "output_type": "stream",
     "text": [
      "Development capacity\n"
     ]
    },
    {
     "data": {
      "image/png": "[encoded data removed]",
      "text/plain": [
       "<Figure size 432x288 with 1 Axes>"
      ]
     },
     "metadata": {
      "needs_background": "light"
     },
     "output_type": "display_data"
    },
    {
     "name": "stdout",
     "output_type": "stream",
     "text": [
      "Ascendency\n"
     ]
    },
    {
     "data": {
      "image/png": "[encoded data removed]",
      "text/plain": [
       "<Figure size 432x288 with 1 Axes>"
      ]
     },
     "metadata": {
      "needs_background": "light"
     },
     "output_type": "display_data"
    },
    {
     "name": "stdout",
     "output_type": "stream",
     "text": [
      "Redundancy\n"
     ]
    },
    {
     "data": {
      "image/png": "[encoded data removed]",
      "text/plain": [
       "<Figure size 432x288 with 1 Axes>"
      ]
     },
     "metadata": {
      "needs_background": "light"
     },
     "output_type": "display_data"
    }
   ],
   "source": [
    "for count, metric in enumerate(all_metrics):\n",
    "    print(metric_names[count])\n",
    "    plt.hist(all_metrics[count], bins=len(all_metrics[count]))\n",
    "    plt.show()"
   ]
  },
  {
   "cell_type": "code",
   "execution_count": 31,
   "metadata": {},
   "outputs": [
    {
     "name": "stdout",
     "output_type": "stream",
     "text": [
      "Average Mutual Information\n"
     ]
    },
    {
     "data": {
      "image/png": "[encoded data removed]",
      "text/plain": [
       "<Figure size 432x288 with 1 Axes>"
      ]
     },
     "metadata": {
      "needs_background": "light"
     },
     "output_type": "display_data"
    },
    {
     "name": "stdout",
     "output_type": "stream",
     "text": [
      "Development capacity\n"
     ]
    },
    {
     "data": {
      "image/png": "[encoded data removed]",
      "text/plain": [
       "<Figure size 432x288 with 1 Axes>"
      ]
     },
     "metadata": {
      "needs_background": "light"
     },
     "output_type": "display_data"
    },
    {
     "name": "stdout",
     "output_type": "stream",
     "text": [
      "Ascendency\n"
     ]
    },
    {
     "data": {
      "image/png": "[encoded data removed]",
      "text/plain": [
       "<Figure size 432x288 with 1 Axes>"
      ]
     },
     "metadata": {
      "needs_background": "light"
     },
     "output_type": "display_data"
    },
    {
     "name": "stdout",
     "output_type": "stream",
     "text": [
      "Redundancy\n"
     ]
    },
    {
     "data": {
      "image/png": "[encoded data removed]",
      "text/plain": [
       "<Figure size 432x288 with 1 Axes>"
      ]
     },
     "metadata": {
      "needs_background": "light"
     },
     "output_type": "display_data"
    }
   ],
   "source": [
    "\n",
    "sorted_indicies = np.argsort(community_sizes)\n",
    "community_sizes = community_sizes[sorted_indicies]\n",
    "\n",
    "for count, metric in enumerate(all_metrics):\n",
    "    print(metric_names[count])\n",
    "    sorted_metric = all_metrics[count][sorted_indicies]\n",
    "    plt.plot(community_sizes, sorted_metric)\n",
    "    plt.show()"
   ]
  },
  {
   "cell_type": "code",
   "execution_count": 32,
   "metadata": {},
   "outputs": [
    {
     "name": "stdout",
     "output_type": "stream",
     "text": [
      "Average Mutual Information\n"
     ]
    },
    {
     "data": {
      "image/png": "[encoded data removed]",
      "text/plain": [
       "<Figure size 432x288 with 1 Axes>"
      ]
     },
     "metadata": {
      "needs_background": "light"
     },
     "output_type": "display_data"
    },
    {
     "name": "stdout",
     "output_type": "stream",
     "text": [
      "Development capacity\n"
     ]
    },
    {
     "data": {
      "image/png": "[encoded data removed]",
      "text/plain": [
       "<Figure size 432x288 with 1 Axes>"
      ]
     },
     "metadata": {
      "needs_background": "light"
     },
     "output_type": "display_data"
    },
    {
     "name": "stdout",
     "output_type": "stream",
     "text": [
      "Ascendency\n"
     ]
    },
    {
     "data": {
      "image/png": "[encoded data removed]",
      "text/plain": [
       "<Figure size 432x288 with 1 Axes>"
      ]
     },
     "metadata": {
      "needs_background": "light"
     },
     "output_type": "display_data"
    },
    {
     "name": "stdout",
     "output_type": "stream",
     "text": [
      "Redundancy\n"
     ]
    },
    {
     "data": {
      "image/png": "[encoded data removed]",
      "text/plain": [
       "<Figure size 432x288 with 1 Axes>"
      ]
     },
     "metadata": {
      "needs_background": "light"
     },
     "output_type": "display_data"
    }
   ],
   "source": [
    "sorted_indicies = np.argsort(number_of_edges)\n",
    "number_of_edges = number_of_edges[sorted_indicies]\n",
    "\n",
    "for count, metric in enumerate(all_metrics):\n",
    "    print(metric_names[count])\n",
    "    sorted_metric = all_metrics[count][sorted_indicies]\n",
    "    plt.plot(number_of_edges, sorted_metric)\n",
    "    plt.show()"
   ]
  },
  {
   "cell_type": "code",
   "execution_count": null,
   "metadata": {},
   "outputs": [],
   "source": []
  }
 ],
 "metadata": {
  "kernelspec": {
   "display_name": "Python 3",
   "language": "python",
   "name": "python3"
  },
  "language_info": {
   "codemirror_mode": {
    "name": "ipython",
    "version": 3
   },
   "file_extension": ".py",
   "mimetype": "text/x-python",
   "name": "python",
   "nbconvert_exporter": "python",
   "pygments_lexer": "ipython3",
   "version": "3.7.2"
  }
 },
 "nbformat": 4,
 "nbformat_minor": 2
}
