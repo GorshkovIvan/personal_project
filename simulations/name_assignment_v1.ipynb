{
 "cells": [
  {
   "cell_type": "code",
   "execution_count": 1,
   "metadata": {},
   "outputs": [
    {
     "name": "stdout",
     "output_type": "stream",
     "text": [
      "importing Jupyter notebook from etherscan_scrapper_v0.ipynb\n"
     ]
    }
   ],
   "source": [
    "import import_ipynb\n",
    "from etherscan_scrapper_v0 import *\n",
    "import pandas as pd"
   ]
  },
  {
   "cell_type": "code",
   "execution_count": 2,
   "metadata": {},
   "outputs": [],
   "source": [
    "class name_searcher():\n",
    "    \n",
    "    def __init__(self, analyser):\n",
    "        \n",
    "        self.analyser = analyser\n",
    "        \n",
    "    def assign_name(self, original_name, new_name, dictionary, iteration):\n",
    "        if new_name in dictionary:\n",
    "            iteration += 1\n",
    "            return self.assign_name(original_name, original_name + \" \" + str(iteration), dictionary, iteration)\n",
    "        return new_name\n",
    "\n",
    "    def rank_named_addresses(self, address_score, centralityType, num_top_addresses):\n",
    "\n",
    "        number_of_top_addresses = num_top_addresses\n",
    "        address_owners = {}\n",
    "        url_start = \"https://etherscan.io/address/\"\n",
    "\n",
    "        # cleaning address owner data\n",
    "        clean_owners = {}\n",
    "        count_unknown = 0\n",
    "\n",
    "        for index, row in address_score.head(number_of_top_addresses).iterrows():\n",
    "\n",
    "            address = row[\"address\"]\n",
    "            if(str(self.analyser.get_node_name(address)[0]) == \"None\"):\n",
    "\n",
    "                parser = etherscanParser(\"https://etherscan.io/address/\" + address)\n",
    "                address_owners[address] = {}\n",
    "                address_owners[address]['href'] = parser.get_labels_through_href() \n",
    "                address_owners[address]['title'] = parser.get_public_address_tag()\n",
    "\n",
    "                if \"Address\" not in address_owners[address]['title'] and 'Ethereum Accoun' not in address_owners[address]['title'] and address_owners[address]['href'] != '' and 'Ethereum BlockChain Explorer' not in address_owners[address]['title']:\n",
    "                    clean_owners[address] = address_owners[address]['title'] + \" \" + address_owners[address]['href']\n",
    "                    self.analyser.set_node_name(address,clean_owners[address])\n",
    "                elif \"Address\" not in address_owners[address]['title'] and 'Ethereum Accoun' not in address_owners[address]['title'] and 'Ethereum BlockChain Explorer' not in address_owners[address]['title']:\n",
    "                    clean_owners[address] = address_owners[address]['title']\n",
    "                    self.analyser.set_node_name(address,clean_owners[address])\n",
    "                elif address_owners[address]['href'] != '':\n",
    "                    clean_owners[address] = address_owners[address]['href']\n",
    "                    self.analyser.set_node_name(address,clean_owners[address])\n",
    "                else:\n",
    "                    clean_owners[address] = \"Unknown\" + str(count_unknown)\n",
    "                    count_unknown += 1\n",
    "\n",
    "            else:\n",
    "                clean_owners[address] = str(self.analyser.get_node_name(address)[0])\n",
    "\n",
    "\n",
    "        top_scores = {}\n",
    "        pr_centrality_scores= address_score.set_index('address')[centralityType].to_dict()\n",
    "\n",
    "        for address in clean_owners.keys():\n",
    "            name = self.assign_name(clean_owners[address], clean_owners[address], top_scores, 0)\n",
    "            top_scores[name] = pr_centrality_scores[address]\n",
    "\n",
    "        top_scorers_df = pd.DataFrame.from_dict(data = top_scores, columns = [centralityType], orient='index')\n",
    "        #top_scorers_df.plot.bar()\n",
    "\n",
    "        return top_scorers_df, clean_owners"
   ]
  },
  {
   "cell_type": "code",
   "execution_count": null,
   "metadata": {},
   "outputs": [],
   "source": []
  }
 ],
 "metadata": {
  "kernelspec": {
   "display_name": "Python 3",
   "language": "python",
   "name": "python3"
  },
  "language_info": {
   "codemirror_mode": {
    "name": "ipython",
    "version": 3
   },
   "file_extension": ".py",
   "mimetype": "text/x-python",
   "name": "python",
   "nbconvert_exporter": "python",
   "pygments_lexer": "ipython3",
   "version": "3.7.2"
  }
 },
 "nbformat": 4,
 "nbformat_minor": 2
}
