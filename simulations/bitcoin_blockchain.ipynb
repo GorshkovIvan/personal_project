{
 "cells": [
  {
   "cell_type": "code",
   "execution_count": 34,
   "metadata": {},
   "outputs": [],
   "source": [
    "import numpy as np\n",
    "import networkx as nx\n",
    "from pyvis.network import Network\n",
    "import matplotlib.pyplot as plt\n",
    "import matplotlib.cm as cm\n",
    "import random\n",
    "import pylab as plt #import Matplotlib plotting interface\n",
    "import math"
   ]
  },
  {
   "cell_type": "code",
   "execution_count": 35,
   "metadata": {},
   "outputs": [],
   "source": [
    "class address:\n",
    "    \n",
    "    def __init__(self, coins, public):\n",
    "        \n",
    "        self.public = public\n",
    "        self.coins = coins\n",
    "       \n",
    "    def receive(self, amount):\n",
    "        self.coins += amount\n",
    "        \n",
    "    def send(self, other, amount):\n",
    "        \n",
    "        if(self.coins >= amount):\n",
    "            other.receive(amount)\n",
    "            self.coins -= amount\n",
    "            amount_sent = amount\n",
    "        else:\n",
    "            \n",
    "            other.receive(self.coins)\n",
    "            self.coins = 0\n",
    "            amount_sent = self.coins \n",
    "            \n",
    "        return amount_sent\n",
    "\n",
    "class transaction:\n",
    "        \n",
    "    def __init__(self, sums_in, sums_out):\n",
    "\n",
    "        self.sums_in = sums_in\n",
    "        self.sums_out = sums_out\n",
    "        \n",
    "        \n",
    "class blockchain:\n",
    "    \n",
    "    def __init__(self, number_of_users, coins, num_shops, mixing_probability, number_of_mixers):\n",
    "        \n",
    "        self.num_shops = num_shops\n",
    "        self.network = np.zeros((number_of_users + number_of_mixers, number_of_users + number_of_mixers))\n",
    "        self.addresses = []\n",
    "        self.transactions = []\n",
    "        for i in range(number_of_users):\n",
    "            self.addresses.append(user(mixing_probability, number_of_users, coins, i))\n",
    "        self.num_users = len(self.addresses)\n",
    "        i = number_of_users\n",
    "        while(i < number_of_users + number_of_mixers):\n",
    "            \n",
    "            self.addresses.append(address(0, i))\n",
    "            i = i + 1\n",
    "            \n",
    "    def generate_address(self):\n",
    "        self.addresses.append(address(coins, len(self.addresses)))\n",
    "        \n",
    "    def size(self):\n",
    "        return len(self.addresses)\n",
    "            \n",
    "    def update_network(self, address_send, address_receive, amount):\n",
    "        self.network[address_send][address_receive] += amount\n",
    "    \n",
    "    def print_ledger(self):\n",
    "        \n",
    "        for address in self.addresses:\n",
    "            print(\"amount: \" + str(address.coins) + \" id:\" + str(address.public))\n",
    "    \"\"\"     \n",
    "    def execute_transactions(self, transactions_list):\n",
    "        sums_in = np.zeros(len(self.addresses))\n",
    "        sums_out = np.zeros(len(self.addresses))\n",
    "        for addresses_to_send in transactions_list:\n",
    "            \n",
    "            for i, address in enumerate(self.addresses):\n",
    "                if(addresses_to_send[i] != i and i > self.num_shops -1):\n",
    "                    amount_sent = address.send(self.addresses[addresses_to_send[i]], 1)\n",
    "                    sums_in[i] += amount_sent\n",
    "                    sums_out[addresses_to_send[i]] += amount_sent\n",
    "                    self.update_network(i, addresses_to_send[i], amount_sent)\n",
    "            \n",
    "        self.transactions.append(transaction(sums_in, sums_out))\n",
    "    \"\"\"     \n",
    "    \n",
    "    def execute_transactions(self, addresses_in, addresses_out, sums):\n",
    "        sums_in = np.zeros(len(self.addresses))\n",
    "        sums_out = np.zeros(len(self.addresses))\n",
    "        \n",
    "        for i in range(len(addresses_in)):\n",
    "            address_in = self.addresses[addresses_in[i]]\n",
    "            address_out = self.addresses[addresses_out[i]]\n",
    "            sum_to_send = sums[i]\n",
    "            amount_sent = address_in.send(address_out, sum_to_send)\n",
    "            sums_in[addresses_in[i]] += amount_sent\n",
    "            sums_out[addresses_out[i]] += amount_sent\n",
    "            self.update_network(addresses_in[i], addresses_out[i], amount_sent)\n",
    "            \n",
    "        self.transactions.append(transaction(sums_in, sums_out))\n",
    "        \n",
    "        \n",
    "class simulation:\n",
    "    \n",
    "    def __init__(self, size, coins, num_shops, mixing_probability, number_of_steps):\n",
    "        self.blockchain  = blockchain(size, coins, num_shops, mixing_probability, number_of_steps)\n",
    "        self.mixer = mixer(size, number_of_steps)\n",
    "        self.number_of_steps = number_of_steps\n",
    "        self.num_shops = num_shops\n",
    "        \n",
    "    \n",
    "    def generate_sending_probabilities(self):\n",
    "        \n",
    "        probabilities = []\n",
    "        for i in range(self.blockchain.size()):\n",
    "            if(i < self.num_shops):\n",
    "                probabilities.append(1/self.blockchain.size() * 3)\n",
    "            else:\n",
    "                probabilities.append((1 - (1/self.blockchain.size() * 3) * self.num_shops)/ (self.blockchain.size() - self.num_shops))\n",
    "        return probabilities\n",
    "    \n",
    "    def generate_transactions_network(self):\n",
    "        size = self.blockchain.size() + len(self.blockchain.transactions)\n",
    "        self.transactions_network = np.zeros((size, size))\n",
    "        \n",
    "        for i, transaction in enumerate(self.blockchain.transactions):\n",
    "            for j in range(len(transaction.sums_in)):\n",
    "                self.transactions_network[j][self.blockchain.size() + i] += transaction.sums_in[j]\n",
    "                self.transactions_network[self.blockchain.size() + i][j] += transaction.sums_out[j]\n",
    "                \n",
    "\n",
    "        return self.transactions_network\n",
    "    \n",
    "    def step(self):   \n",
    "        number_of_transactions = random.randint(1, 2)\n",
    "        transactions = []\n",
    "        for i in range(number_of_transactions):\n",
    "            probabilities = self.generate_sending_probabilities()\n",
    "            addresses_to_send = np.random.choice(self.blockchain.size(), self.blockchain.size(), probabilities) \n",
    "            transactions.append(addresses_to_send)\n",
    "        self.blockchain.execute_transactions(transactions)\n",
    "        \n",
    "    def step_with_mixer(self):\n",
    "        transaction_to_perform = [self.blockchain.size()]\n",
    "        for i in range(self.blockchain.num_users):\n",
    "            mix, address, amount = self.blockchain.addresses[i].generate_transfer(self.blockchain.size())\n",
    "            if(mix == 0):\n",
    "                self.blockchain.execute_transactions([i], [address], [amount])\n",
    "            else:\n",
    "                self.blockchain.addresses[self.blockchain.size() - 1].add_to_mixng_pool(i, address, amount)\n",
    "                self.blockchain.execute_transactions([i], [self.blockchain.size() - 1], [amount])\n",
    "        addresses_out, sums_out = self.blockchain.addresses[self.blockchain.size() - 1].send_out()\n",
    "        addresses_in = []\n",
    "        for i in range(len(addresses_out)):\n",
    "            addresses_in.append(self.blockchain.size() - 1)\n",
    "        self.blockchain.execute_transactions(addresses_in, addresses_out, sums_out)\n",
    "        \n",
    "    def step_with_multiple_addresses(self):\n",
    "        \n",
    "        #transaction_to_perform = [self.blockchain.size()]\n",
    "        \n",
    "        for i in range(self.blockchain.num_users):\n",
    "            mix, address, amount = self.blockchain.addresses[i].generate_transfer(self.blockchain.size())\n",
    "            if(mix == 0):\n",
    "                self.blockchain.execute_transactions([i], [address], [amount])\n",
    "            else:\n",
    "                mixer_address = self.mixer.get_address()\n",
    "                self.mixer.add_to_mixng_pool(i, address, amount)\n",
    "                self.blockchain.execute_transactions([i], [mixer_address], [amount])\n",
    "        mixer_address, addresses_out, sums_out = self.mixer.send_out()\n",
    "        addresses_in = []\n",
    "        for i in range(len(addresses_out)):\n",
    "            addresses_in.append(mixer_address)\n",
    "        self.blockchain.execute_transactions(addresses_in, addresses_out, sums_out)\n",
    "            \n",
    "    \n",
    "    def simulate_random_exchange(self):\n",
    "        \n",
    "        for i in range(self.number_of_steps):\n",
    "            self.step_with_multiple_addresses()\n",
    "    \n",
    "    def print_ledger(self):\n",
    "        self.blockchain.print_ledger()\n",
    "        \n",
    "            "
   ]
  },
  {
   "cell_type": "code",
   "execution_count": 36,
   "metadata": {},
   "outputs": [],
   "source": [
    "# User and Mixer with Multiple addresses\n",
    "\n",
    "class mixer():\n",
    "    \n",
    "    def __init__(self, num_of_users, num_of_addresses):\n",
    "        \n",
    "        self.addresses_in = []\n",
    "        self.addresses_out = []\n",
    "        self.sums = []\n",
    "        self.addresses = list(range(num_of_users, num_of_users+num_of_addresses))\n",
    "        self.used_addresses = 0\n",
    "    \n",
    "    def add_address(self, public):\n",
    "        self.addresses.append(public)\n",
    "    \n",
    "    def get_address(self):\n",
    "        return self.addresses[self.used_addresses]\n",
    "    \n",
    "    def add_to_mixng_pool(self, address_in, address_out, sum_to_send):\n",
    "        self.addresses_in.append(address_in)\n",
    "        self.addresses_out.append(address_out)\n",
    "        self.sums.append(sum_to_send)\n",
    "    \n",
    "    def send_out(self):\n",
    "        \n",
    "        incoming = self.addresses_in\n",
    "        outcoming = self.addresses_in\n",
    "        sums_out = self.sums\n",
    "\n",
    "        if(len(self.sums) > 0):\n",
    "            \n",
    "            self.used_addresses += 1\n",
    "            self.addresses_in = []\n",
    "            self.addresses_out = []\n",
    "            self.sums = []\n",
    "            return self.addresses[self.used_addresses - 1], outcoming, sums_out\n",
    "        \n",
    "        self.addresses_in = []\n",
    "        self.addresses_out = []\n",
    "        self.sums = []\n",
    "        \n",
    "        return self.addresses[self.used_addresses], outcoming, sums_out\n",
    "        \n",
    "    \n",
    "\n",
    "class user(address):\n",
    "    \n",
    "    def __init__(self, mixing_probability, mixer_address, *args, **kwargs):\n",
    "        self.mixing_probability = mixing_probability \n",
    "        self.mixer_address = mixer_address\n",
    "        super(user, self).__init__(*args, **kwargs)\n",
    "        \n",
    "    def generate_transfer(self, blockchain_size):\n",
    "        probabilities = [1 - self.mixing_probability, self.mixing_probability]\n",
    "        action = random.choices([0,1], weights = probabilities, k = 1) \n",
    "        amount_to_send = self.coins * random.uniform(0, 1)\n",
    "        \n",
    "        address_to_send = -1\n",
    "        while(address_to_send == -1 or address_to_send == self.mixer_address):\n",
    "            address_to_send = np.random.choice(blockchain_size, 1)\n",
    "        \n",
    "        return action[0], address_to_send[0], amount_to_send\n",
    "     "
   ]
  },
  {
   "cell_type": "code",
   "execution_count": 37,
   "metadata": {},
   "outputs": [],
   "source": [
    "# Measuring Ascendancy\n",
    "\n",
    "def measure_ascendency(network):\n",
    "    N = network \n",
    "    Too = N.flatten().sum()\n",
    "    A = 0\n",
    "    column_sums = network.sum(axis=0)\n",
    "    row_sums = network.sum(axis=1)\n",
    "    x, y = network.shape\n",
    "    for i in range(x):\n",
    "        for j in range(y):\n",
    "            a = network[i][j] * Too / (row_sums[i] + column_sums[j])\n",
    "            if(a > 0):\n",
    "                A += network[i][j] * math.log10(a)\n",
    "\n",
    "    return A"
   ]
  },
  {
   "cell_type": "code",
   "execution_count": 40,
   "metadata": {},
   "outputs": [
    {
     "name": "stderr",
     "output_type": "stream",
     "text": [
      "C:\\Users\\Ivan\\AppData\\Roaming\\Python\\Python37\\site-packages\\ipykernel_launcher.py:12: RuntimeWarning: invalid value encountered in double_scalars\n",
      "  if sys.path[0] == '':\n"
     ]
    }
   ],
   "source": [
    "# Running Simulations\n",
    "\n",
    "mix = 0.0\n",
    "step = 0.01\n",
    "number_of_connections = []\n",
    "average_degrees = []\n",
    "SCCS = []\n",
    "WCCS = []\n",
    "ACCS = []\n",
    "Ascendencies = []\n",
    "while(mix <= 1.0):\n",
    "    world = simulation(1000, 1, 1, mix, 10)\n",
    "    world.simulate_random_exchange()\n",
    "    network = world.blockchain.network\n",
    "    G = nx.from_numpy_matrix(network, create_using=nx.DiGraph)\n",
    "    # world.print_ledger()\n",
    "    # print(world.blockchain.network)\n",
    "    # Analysis\n",
    "\n",
    "    N, K = G.order(), G.size()\n",
    "    avg_deg = float(K) / N \n",
    "    Ascendencies.append(measure_ascendency(network))\n",
    "    number_of_connections.append(K)\n",
    "    average_degrees.append(avg_deg)\n",
    "    SCCS.append(nx.number_strongly_connected_components(G))\n",
    "    WCCS.append(nx.number_weakly_connected_components(G))\n",
    "    ACCS.append(nx.average_clustering(G))\n",
    "    \n",
    "    mix += step\n"
   ]
  },
  {
   "cell_type": "code",
   "execution_count": 41,
   "metadata": {},
   "outputs": [
    {
     "data": {
      "image/png": "[encoded data removed]",
      "text/plain": [
       "<Figure size 432x288 with 4 Axes>"
      ]
     },
     "metadata": {
      "needs_background": "light"
     },
     "output_type": "display_data"
    }
   ],
   "source": [
    "# Analysis and Visualisation\n",
    "\n",
    "stages = []\n",
    "i = 0\n",
    "while(i <= 1):\n",
    "    stages.append(i)\n",
    "    i += step\n",
    "\n",
    "fig, axs = plt.subplots(2,2)\n",
    "fig.suptitle('Vertically stacked subplots')\n",
    "axs[0, 0].set_title('Number of Connections')\n",
    "axs[0 ,0].plot(stages, number_of_connections)\n",
    "axs[0, 1].set_title('Average Degrees')\n",
    "axs[0 ,1].plot(stages, average_degrees)\n",
    "axs[1, 0].set_title('Strongly Connected Components')\n",
    "axs[1 ,0].plot(stages, SCCS)\n",
    "axs[1, 1].set_title('Weakly Connected Components')\n",
    "axs[1, 1].plot(stages, WCCS)\n",
    "\n",
    "fig.tight_layout(pad=2.0)"
   ]
  },
  {
   "cell_type": "code",
   "execution_count": 42,
   "metadata": {},
   "outputs": [
    {
     "data": {
      "text/plain": [
       "[<matplotlib.lines.Line2D at 0x1d35161d9b0>]"
      ]
     },
     "execution_count": 42,
     "metadata": {},
     "output_type": "execute_result"
    },
    {
     "data": {
      "image/png": "[encoded data removed]",
      "text/plain": [
       "<Figure size 432x288 with 1 Axes>"
      ]
     },
     "metadata": {
      "needs_background": "light"
     },
     "output_type": "display_data"
    }
   ],
   "source": [
    "plt.plot(stages, ACCS)"
   ]
  },
  {
   "cell_type": "code",
   "execution_count": 43,
   "metadata": {},
   "outputs": [
    {
     "data": {
      "text/plain": [
       "[<matplotlib.lines.Line2D at 0x1d3454ff5f8>]"
      ]
     },
     "execution_count": 43,
     "metadata": {},
     "output_type": "execute_result"
    },
    {
     "data": {
      "image/png": "[encoded data removed]",
      "text/plain": [
       "<Figure size 432x288 with 1 Axes>"
      ]
     },
     "metadata": {
      "needs_background": "light"
     },
     "output_type": "display_data"
    }
   ],
   "source": [
    "plt.plot(stages, Ascendencies)"
   ]
  },
  {
   "cell_type": "code",
   "execution_count": 44,
   "metadata": {},
   "outputs": [
    {
     "data": {
      "image/png": "[encoded data removed]",
      "text/plain": [
       "<Figure size 432x288 with 1 Axes>"
      ]
     },
     "metadata": {},
     "output_type": "display_data"
    }
   ],
   "source": [
    "nx.draw(G) \n",
    "plt.show()"
   ]
  },
  {
   "cell_type": "code",
   "execution_count": 145,
   "metadata": {},
   "outputs": [],
   "source": [
    "path = \"kronfit/test.txt\"\n",
    "G = nx.from_numpy_matrix(network, create_using=nx.DiGraph)\n",
    "nx.write_edgelist(G, path, delimiter=' ', comments='#', encoding='utf-8', data = False)"
   ]
  },
  {
   "cell_type": "code",
   "execution_count": null,
   "metadata": {},
   "outputs": [],
   "source": [
    "net = Network(notebook = True)\n",
    "net.from_nx(G)\n",
    "net.show(\"example.html\")"
   ]
  },
  {
   "cell_type": "code",
   "execution_count": 142,
   "metadata": {},
   "outputs": [
    {
     "ename": "MemoryError",
     "evalue": "Unable to allocate array with shape (1002001, 1002001) and data type float64",
     "output_type": "error",
     "traceback": [
      "\u001b[1;31m---------------------------------------------------------------------------\u001b[0m",
      "\u001b[1;31mMemoryError\u001b[0m                               Traceback (most recent call last)",
      "\u001b[1;32m<ipython-input-142-852922a39ffc>\u001b[0m in \u001b[0;36m<module>\u001b[1;34m\u001b[0m\n\u001b[0;32m      2\u001b[0m \u001b[1;33m\u001b[0m\u001b[0m\n\u001b[0;32m      3\u001b[0m \u001b[0mk\u001b[0m \u001b[1;33m=\u001b[0m \u001b[0mworld\u001b[0m\u001b[1;33m.\u001b[0m\u001b[0mblockchain\u001b[0m\u001b[1;33m.\u001b[0m\u001b[0mnetwork\u001b[0m\u001b[1;33m\u001b[0m\u001b[1;33m\u001b[0m\u001b[0m\n\u001b[1;32m----> 4\u001b[1;33m \u001b[0mk2\u001b[0m \u001b[1;33m=\u001b[0m \u001b[0mnp\u001b[0m\u001b[1;33m.\u001b[0m\u001b[0mkron\u001b[0m\u001b[1;33m(\u001b[0m\u001b[0mk\u001b[0m\u001b[1;33m,\u001b[0m\u001b[0mk\u001b[0m\u001b[1;33m)\u001b[0m\u001b[1;33m\u001b[0m\u001b[1;33m\u001b[0m\u001b[0m\n\u001b[0m\u001b[0;32m      5\u001b[0m \u001b[1;33m\u001b[0m\u001b[0m\n\u001b[0;32m      6\u001b[0m \u001b[0mfig\u001b[0m \u001b[1;33m=\u001b[0m \u001b[0mplt\u001b[0m\u001b[1;33m.\u001b[0m\u001b[0mfigure\u001b[0m\u001b[1;33m(\u001b[0m\u001b[1;33m)\u001b[0m\u001b[1;33m\u001b[0m\u001b[1;33m\u001b[0m\u001b[0m\n",
      "\u001b[1;32m<__array_function__ internals>\u001b[0m in \u001b[0;36mkron\u001b[1;34m(*args, **kwargs)\u001b[0m\n",
      "\u001b[1;32m~\\AppData\\Local\\Programs\\Python\\Python37\\lib\\site-packages\\numpy\\lib\\shape_base.py\u001b[0m in \u001b[0;36mkron\u001b[1;34m(a, b)\u001b[0m\n\u001b[0;32m   1136\u001b[0m             \u001b[0mbs\u001b[0m \u001b[1;33m=\u001b[0m \u001b[1;33m(\u001b[0m\u001b[1;36m1\u001b[0m\u001b[1;33m,\u001b[0m\u001b[1;33m)\u001b[0m\u001b[1;33m*\u001b[0m\u001b[1;33m(\u001b[0m\u001b[0mnda\u001b[0m\u001b[1;33m-\u001b[0m\u001b[0mndb\u001b[0m\u001b[1;33m)\u001b[0m \u001b[1;33m+\u001b[0m \u001b[0mbs\u001b[0m\u001b[1;33m\u001b[0m\u001b[1;33m\u001b[0m\u001b[0m\n\u001b[0;32m   1137\u001b[0m             \u001b[0mnd\u001b[0m \u001b[1;33m=\u001b[0m \u001b[0mnda\u001b[0m\u001b[1;33m\u001b[0m\u001b[1;33m\u001b[0m\u001b[0m\n\u001b[1;32m-> 1138\u001b[1;33m     \u001b[0mresult\u001b[0m \u001b[1;33m=\u001b[0m \u001b[0mouter\u001b[0m\u001b[1;33m(\u001b[0m\u001b[0ma\u001b[0m\u001b[1;33m,\u001b[0m \u001b[0mb\u001b[0m\u001b[1;33m)\u001b[0m\u001b[1;33m.\u001b[0m\u001b[0mreshape\u001b[0m\u001b[1;33m(\u001b[0m\u001b[0mas_\u001b[0m\u001b[1;33m+\u001b[0m\u001b[0mbs\u001b[0m\u001b[1;33m)\u001b[0m\u001b[1;33m\u001b[0m\u001b[1;33m\u001b[0m\u001b[0m\n\u001b[0m\u001b[0;32m   1139\u001b[0m     \u001b[0maxis\u001b[0m \u001b[1;33m=\u001b[0m \u001b[0mnd\u001b[0m\u001b[1;33m-\u001b[0m\u001b[1;36m1\u001b[0m\u001b[1;33m\u001b[0m\u001b[1;33m\u001b[0m\u001b[0m\n\u001b[0;32m   1140\u001b[0m     \u001b[1;32mfor\u001b[0m \u001b[0m_\u001b[0m \u001b[1;32min\u001b[0m \u001b[0mrange\u001b[0m\u001b[1;33m(\u001b[0m\u001b[0mnd\u001b[0m\u001b[1;33m)\u001b[0m\u001b[1;33m:\u001b[0m\u001b[1;33m\u001b[0m\u001b[1;33m\u001b[0m\u001b[0m\n",
      "\u001b[1;32m<__array_function__ internals>\u001b[0m in \u001b[0;36mouter\u001b[1;34m(*args, **kwargs)\u001b[0m\n",
      "\u001b[1;32m~\\AppData\\Local\\Programs\\Python\\Python37\\lib\\site-packages\\numpy\\core\\numeric.py\u001b[0m in \u001b[0;36mouter\u001b[1;34m(a, b, out)\u001b[0m\n\u001b[0;32m    903\u001b[0m     \u001b[0ma\u001b[0m \u001b[1;33m=\u001b[0m \u001b[0masarray\u001b[0m\u001b[1;33m(\u001b[0m\u001b[0ma\u001b[0m\u001b[1;33m)\u001b[0m\u001b[1;33m\u001b[0m\u001b[1;33m\u001b[0m\u001b[0m\n\u001b[0;32m    904\u001b[0m     \u001b[0mb\u001b[0m \u001b[1;33m=\u001b[0m \u001b[0masarray\u001b[0m\u001b[1;33m(\u001b[0m\u001b[0mb\u001b[0m\u001b[1;33m)\u001b[0m\u001b[1;33m\u001b[0m\u001b[1;33m\u001b[0m\u001b[0m\n\u001b[1;32m--> 905\u001b[1;33m     \u001b[1;32mreturn\u001b[0m \u001b[0mmultiply\u001b[0m\u001b[1;33m(\u001b[0m\u001b[0ma\u001b[0m\u001b[1;33m.\u001b[0m\u001b[0mravel\u001b[0m\u001b[1;33m(\u001b[0m\u001b[1;33m)\u001b[0m\u001b[1;33m[\u001b[0m\u001b[1;33m:\u001b[0m\u001b[1;33m,\u001b[0m \u001b[0mnewaxis\u001b[0m\u001b[1;33m]\u001b[0m\u001b[1;33m,\u001b[0m \u001b[0mb\u001b[0m\u001b[1;33m.\u001b[0m\u001b[0mravel\u001b[0m\u001b[1;33m(\u001b[0m\u001b[1;33m)\u001b[0m\u001b[1;33m[\u001b[0m\u001b[0mnewaxis\u001b[0m\u001b[1;33m,\u001b[0m \u001b[1;33m:\u001b[0m\u001b[1;33m]\u001b[0m\u001b[1;33m,\u001b[0m \u001b[0mout\u001b[0m\u001b[1;33m)\u001b[0m\u001b[1;33m\u001b[0m\u001b[1;33m\u001b[0m\u001b[0m\n\u001b[0m\u001b[0;32m    906\u001b[0m \u001b[1;33m\u001b[0m\u001b[0m\n\u001b[0;32m    907\u001b[0m \u001b[1;33m\u001b[0m\u001b[0m\n",
      "\u001b[1;31mMemoryError\u001b[0m: Unable to allocate array with shape (1002001, 1002001) and data type float64"
     ]
    }
   ],
   "source": [
    "# Kronecker Graph\n",
    "\n",
    "k = world.blockchain.network\n",
    "k2 = np.kron(k,k)\n",
    "\n",
    "fig = plt.figure()\n",
    "\n",
    "ax0 = fig.add_subplot(121)\n",
    "# 'nearest' interpolation - faithful but blocky\n",
    "ax0.imshow(k, interpolation='nearest', cmap=cm.Greys_r)\n",
    "\n",
    "directed = fig.add_subplot(122)\n",
    "# 'nearest' interpolation - faithful but blocky\n",
    "directed.imshow(k2, interpolation='nearest', cmap=cm.Greys_r)"
   ]
  },
  {
   "cell_type": "code",
   "execution_count": 7,
   "metadata": {},
   "outputs": [
    {
     "data": {
      "text/html": [
       "\n",
       "        <iframe\n",
       "            width=\"500px\"\n",
       "            height=\"500px\"\n",
       "            src=\"example.html\"\n",
       "            frameborder=\"0\"\n",
       "            allowfullscreen\n",
       "        ></iframe>\n",
       "        "
      ],
      "text/plain": [
       "<IPython.lib.display.IFrame at 0x1b4c749cbe0>"
      ]
     },
     "execution_count": 7,
     "metadata": {},
     "output_type": "execute_result"
    }
   ],
   "source": [
    "tree_matrix =  np.array([[0, 1, 1, 0, 0, 0, 0],\n",
    "                         [1, 0, 0, 1, 1, 0, 0],\n",
    "                         [1, 0, 0, 0, 0, 1, 1], \n",
    "                         [0, 1, 0, 0, 0, 0, 0], \n",
    "                         [0, 1, 0, 0, 0, 0, 0],\n",
    "                         [0, 0, 1, 0, 0, 0, 0],\n",
    "                         [0, 0, 1, 0, 0, 0, 0]])\n",
    "\n",
    "G = nx.from_numpy_matrix(tree_matrix, create_using=nx.DiGraph)\n",
    "net = Network(notebook = True)\n",
    "net.from_nx(G)\n",
    "net.show(\"example.html\")"
   ]
  },
  {
   "cell_type": "code",
   "execution_count": 9,
   "metadata": {},
   "outputs": [],
   "source": []
  },
  {
   "cell_type": "code",
   "execution_count": 122,
   "metadata": {},
   "outputs": [],
   "source": [
    "class mixer(address):\n",
    "    \n",
    "    def __init__(self, mixer_id, *args, **kwargs):\n",
    "        self.id = mixer_id\n",
    "        self.addresses_in = []\n",
    "        self.addresses_out = []\n",
    "        self.sums = []\n",
    "        super(mixer, self).__init__(*args, **kwargs)\n",
    "    \n",
    "    def add_to_mixng_pool(self, address_in, address_out, sum_to_send):\n",
    "        self.addresses_in.append(address_in)\n",
    "        self.addresses_out.append(address_out)\n",
    "        self.sums.append(sum_to_send)\n",
    "    \n",
    "    def send_out(self):\n",
    "        incoming = self.addresses_in\n",
    "        outcoming = self.addresses_in\n",
    "        sums_out = self.sums\n",
    "        self.addresses_in = []\n",
    "        self.addresses_out = []\n",
    "        self.sums = []\n",
    "        return outcoming, sums_out\n",
    "        \n",
    "    \n",
    "\n",
    "class user(address):\n",
    "    \n",
    "    def __init__(self, mixing_probability, mixer_address, *args, **kwargs):\n",
    "        self.mixing_probability = mixing_probability \n",
    "        self.mixer_address = mixer_address\n",
    "        super(user, self).__init__(*args, **kwargs)\n",
    "        \n",
    "    def generate_transfer(self, blockchain_size):\n",
    "        probabilities = [1 - self.mixing_probability, self.mixing_probability]\n",
    "        action = random.choices([0,1], weights = probabilities, k = 1) \n",
    "        amount_to_send = self.coins * random.uniform(0, 1)\n",
    "        \n",
    "        address_to_send = -1\n",
    "        while(address_to_send == -1 or address_to_send == self.mixer_address):\n",
    "            address_to_send = np.random.choice(blockchain_size, 1)\n",
    "        \n",
    "        return action[0], address_to_send[0], amount_to_send\n",
    "        \n",
    "        "
   ]
  },
  {
   "cell_type": "code",
   "execution_count": null,
   "metadata": {},
   "outputs": [],
   "source": []
  }
 ],
 "metadata": {
  "kernelspec": {
   "display_name": "Python 3",
   "language": "python",
   "name": "python3"
  },
  "language_info": {
   "codemirror_mode": {
    "name": "ipython",
    "version": 3
   },
   "file_extension": ".py",
   "mimetype": "text/x-python",
   "name": "python",
   "nbconvert_exporter": "python",
   "pygments_lexer": "ipython3",
   "version": "3.7.2"
  }
 },
 "nbformat": 4,
 "nbformat_minor": 2
}
