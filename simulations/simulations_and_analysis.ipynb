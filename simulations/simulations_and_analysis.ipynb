{
 "cells": [
  {
   "cell_type": "code",
   "execution_count": 27,
   "metadata": {},
   "outputs": [],
   "source": [
    "import numpy as np\n",
    "import networkx as nx\n",
    "from pyvis.network import Network\n",
    "import matplotlib.pyplot as plt\n",
    "import matplotlib.cm as cm\n",
    "import random\n",
    "import pylab as plt #import Matplotlib plotting interface\n",
    "import math\n",
    "import community as community_louvain\n",
    "import collections\n",
    "import import_ipynb\n",
    "from mixer_ascendency import*"
   ]
  },
  {
   "cell_type": "code",
   "execution_count": 28,
   "metadata": {},
   "outputs": [
    {
     "name": "stderr",
     "output_type": "stream",
     "text": [
      "mixer_ascendency.ipynb:44: RuntimeWarning: invalid value encountered in double_scalars\n",
      "  \"        else:\\n\",\n",
      "ipynb.fs.full.louvain_ascendency:104: RuntimeWarning: invalid value encountered in double_scalars\n",
      "mixer_ascendency.ipynb:59: RuntimeWarning: invalid value encountered in double_scalars\n",
      "  \"        \\n\",\n"
     ]
    },
    {
     "ename": "KeyboardInterrupt",
     "evalue": "",
     "output_type": "error",
     "traceback": [
      "\u001b[1;31m---------------------------------------------------------------------------\u001b[0m",
      "\u001b[1;31mKeyboardInterrupt\u001b[0m                         Traceback (most recent call last)",
      "\u001b[1;32m<ipython-input-28-15104c657f49>\u001b[0m in \u001b[0;36m<module>\u001b[1;34m\u001b[0m\n\u001b[0;32m     30\u001b[0m     \u001b[0mdevelopment_capacities\u001b[0m\u001b[1;33m.\u001b[0m\u001b[0mappend\u001b[0m\u001b[1;33m(\u001b[0m\u001b[0mmeasure_development_capacity\u001b[0m\u001b[1;33m(\u001b[0m\u001b[0mnetwork\u001b[0m\u001b[1;33m)\u001b[0m \u001b[1;33m/\u001b[0m \u001b[1;33m(\u001b[0m\u001b[0mnumber_of_users\u001b[0m \u001b[1;33m+\u001b[0m \u001b[0mnumber_of_steps\u001b[0m\u001b[1;33m)\u001b[0m\u001b[1;33m)\u001b[0m\u001b[1;33m\u001b[0m\u001b[1;33m\u001b[0m\u001b[0m\n\u001b[0;32m     31\u001b[0m     \u001b[0maverage_mutual_informations\u001b[0m\u001b[1;33m.\u001b[0m\u001b[0mappend\u001b[0m\u001b[1;33m(\u001b[0m\u001b[0mmeasure_average_mutual_information\u001b[0m\u001b[1;33m(\u001b[0m\u001b[0mnetwork\u001b[0m\u001b[1;33m)\u001b[0m \u001b[1;33m/\u001b[0m \u001b[1;33m(\u001b[0m\u001b[0mnumber_of_users\u001b[0m \u001b[1;33m+\u001b[0m \u001b[0mnumber_of_steps\u001b[0m\u001b[1;33m)\u001b[0m\u001b[1;33m)\u001b[0m\u001b[1;33m\u001b[0m\u001b[1;33m\u001b[0m\u001b[0m\n\u001b[1;32m---> 32\u001b[1;33m     \u001b[0mredundancies\u001b[0m\u001b[1;33m.\u001b[0m\u001b[0mappend\u001b[0m\u001b[1;33m(\u001b[0m\u001b[0mmeasure_redundancy\u001b[0m\u001b[1;33m(\u001b[0m\u001b[0mnetwork\u001b[0m\u001b[1;33m)\u001b[0m \u001b[1;33m/\u001b[0m \u001b[1;33m(\u001b[0m\u001b[0mnumber_of_users\u001b[0m \u001b[1;33m+\u001b[0m \u001b[0mnumber_of_steps\u001b[0m\u001b[1;33m)\u001b[0m\u001b[1;33m)\u001b[0m\u001b[1;33m\u001b[0m\u001b[1;33m\u001b[0m\u001b[0m\n\u001b[0m\u001b[0;32m     33\u001b[0m     \u001b[0mnumber_of_connections\u001b[0m\u001b[1;33m.\u001b[0m\u001b[0mappend\u001b[0m\u001b[1;33m(\u001b[0m\u001b[0mK\u001b[0m\u001b[1;33m)\u001b[0m\u001b[1;33m\u001b[0m\u001b[1;33m\u001b[0m\u001b[0m\n\u001b[0;32m     34\u001b[0m     \u001b[0maverage_degrees\u001b[0m\u001b[1;33m.\u001b[0m\u001b[0mappend\u001b[0m\u001b[1;33m(\u001b[0m\u001b[0mavg_deg\u001b[0m\u001b[1;33m)\u001b[0m\u001b[1;33m\u001b[0m\u001b[1;33m\u001b[0m\u001b[0m\n",
      "\u001b[1;32m~\\Desktop\\Studies\\imperial\\Dissertation\\files\\simulations\\mixer_ascendency.ipynb\u001b[0m in \u001b[0;36mmeasure_redundancy\u001b[1;34m(network)\u001b[0m\n",
      "\u001b[1;31mKeyboardInterrupt\u001b[0m: "
     ]
    }
   ],
   "source": [
    "# Running Simulations\n",
    "\n",
    "mix = 0.0\n",
    "step = 0.01\n",
    "number_of_users = 1000\n",
    "number_of_steps = 1\n",
    "number_of_connections = []\n",
    "average_degrees = []\n",
    "SCCS = []\n",
    "WCCS = []\n",
    "ACCS = []\n",
    "Ascendencies = []\n",
    "development_capacities =[]\n",
    "average_mutual_informations = []\n",
    "redundancies = []\n",
    "degree_sequences = []\n",
    "degreeCounts = []\n",
    "\n",
    "while(mix <= 1.0):\n",
    "    world = simulation(number_of_users, 1, 1, mix, number_of_steps)\n",
    "    world.simulate_random_exchange()\n",
    "    network = world.blockchain.network\n",
    "    G = nx.from_numpy_matrix(network, create_using=nx.DiGraph)\n",
    "\n",
    "    # Analysis\n",
    "\n",
    "    N, K = G.order(), G.size()\n",
    "    avg_deg = float(K) / N \n",
    "    Ascendencies.append(measure_ascendency(network)/ (number_of_users + number_of_steps)) \n",
    "    development_capacities.append(measure_development_capacity(network) / (number_of_users + number_of_steps))\n",
    "    average_mutual_informations.append(measure_average_mutual_information(network) / (number_of_users + number_of_steps))\n",
    "    redundancies.append(measure_redundancy(network) / (number_of_users + number_of_steps))\n",
    "    number_of_connections.append(K)\n",
    "    average_degrees.append(avg_deg)\n",
    "    SCCS.append(nx.number_strongly_connected_components(G))\n",
    "    WCCS.append(nx.number_weakly_connected_components(G))\n",
    "    ACCS.append(nx.average_clustering(G))\n",
    "    degree_sequence = sorted([d for n, d in G.degree()], reverse=True)  # degree sequence\n",
    "    degreeCounts.append(collections.Counter(degree_sequence))\n",
    "    \n",
    "    \n",
    "    mix += step"
   ]
  },
  {
   "cell_type": "code",
   "execution_count": null,
   "metadata": {},
   "outputs": [],
   "source": [
    "# Analysis and Visualisation\n",
    "\n",
    "stages = []\n",
    "i = 0\n",
    "while(i <= 1):\n",
    "    stages.append(i)\n",
    "    i += step\n",
    "\n",
    "fig, axs = plt.subplots(2,2)\n",
    "fig.suptitle('Vertically stacked subplots')\n",
    "axs[0, 0].set_title('Number of Connections')\n",
    "axs[0 ,0].plot(stages, number_of_connections)\n",
    "axs[0, 1].set_title('Average Degrees')\n",
    "axs[0 ,1].plot(stages, average_degrees)\n",
    "axs[1, 0].set_title('Strongly Connected Components')\n",
    "axs[1 ,0].plot(stages, SCCS)\n",
    "axs[1, 1].set_title('Weakly Connected Components')\n",
    "axs[1, 1].plot(stages, WCCS)\n",
    "\n",
    "fig.tight_layout(pad=2.0)"
   ]
  },
  {
   "cell_type": "code",
   "execution_count": null,
   "metadata": {},
   "outputs": [],
   "source": [
    "plt.plot(stages, ACCS)"
   ]
  },
  {
   "cell_type": "code",
   "execution_count": null,
   "metadata": {},
   "outputs": [],
   "source": [
    "plt.plot(stages, Ascendencies)"
   ]
  },
  {
   "cell_type": "code",
   "execution_count": null,
   "metadata": {},
   "outputs": [],
   "source": [
    "plt.plot(stages, development_capacities)"
   ]
  },
  {
   "cell_type": "code",
   "execution_count": null,
   "metadata": {},
   "outputs": [],
   "source": [
    "plt.plot(stages, average_mutual_informations)"
   ]
  },
  {
   "cell_type": "code",
   "execution_count": null,
   "metadata": {},
   "outputs": [],
   "source": [
    "def Convert(lst):\n",
    "    return [ -i for i in lst ]\n",
    "plt.plot(stages, Convert(redundancies))"
   ]
  },
  {
   "cell_type": "code",
   "execution_count": null,
   "metadata": {},
   "outputs": [],
   "source": [
    "nx.draw(G) \n",
    "plt.show()"
   ]
  },
  {
   "cell_type": "code",
   "execution_count": null,
   "metadata": {},
   "outputs": [],
   "source": [
    "i = 0.0\n",
    "for degreeCount in degreeCounts:\n",
    "    print(\"mixing_probability \", i)\n",
    "    i += step\n",
    "    deg, cnt = zip(*degreeCount.items())\n",
    "\n",
    "    fig, ax = plt.subplots()\n",
    "    plt.bar(deg, cnt, width=0.80, color=\"b\")\n",
    "\n",
    "    plt.title(\"Degree Histogram\")\n",
    "    plt.ylabel(\"Count\")\n",
    "    plt.xlabel(\"Degree\")\n",
    "    ax.set_xticks([d + 0.4 for d in deg])\n",
    "    ax.set_xticklabels(deg)\n",
    "    plt.show()"
   ]
  },
  {
   "cell_type": "code",
   "execution_count": null,
   "metadata": {},
   "outputs": [],
   "source": [
    "path = \"kronfit/test.txt\"\n",
    "G = nx.from_numpy_matrix(network, create_using=nx.DiGraph)\n",
    "nx.write_edgelist(G, path, delimiter=' ', comments='#', encoding='utf-8', data = False)"
   ]
  },
  {
   "cell_type": "code",
   "execution_count": null,
   "metadata": {},
   "outputs": [],
   "source": [
    "net = Network(notebook = True)\n",
    "net.from_nx(G)\n",
    "net.show(\"example.html\")"
   ]
  },
  {
   "cell_type": "code",
   "execution_count": null,
   "metadata": {},
   "outputs": [],
   "source": [
    "# Kronecker Graph\n",
    "\n",
    "k = world.blockchain.network\n",
    "k2 = np.kron(k,k)\n",
    "\n",
    "fig = plt.figure()\n",
    "\n",
    "ax0 = fig.add_subplot(121)\n",
    "# 'nearest' interpolation - faithful but blocky\n",
    "ax0.imshow(k, interpolation='nearest', cmap=cm.Greys_r)\n",
    "\n",
    "directed = fig.add_subplot(122)\n",
    "# 'nearest' interpolation - faithful but blocky\n",
    "directed.imshow(k2, interpolation='nearest', cmap=cm.Greys_r)"
   ]
  }
 ],
 "metadata": {
  "kernelspec": {
   "display_name": "Python 3",
   "language": "python",
   "name": "python3"
  },
  "language_info": {
   "codemirror_mode": {
    "name": "ipython",
    "version": 3
   },
   "file_extension": ".py",
   "mimetype": "text/x-python",
   "name": "python",
   "nbconvert_exporter": "python",
   "pygments_lexer": "ipython3",
   "version": "3.7.2"
  }
 },
 "nbformat": 4,
 "nbformat_minor": 2
}
