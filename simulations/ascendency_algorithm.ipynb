{
 "cells": [
  {
   "cell_type": "code",
   "execution_count": 4,
   "metadata": {},
   "outputs": [],
   "source": [
    "import numpy as np\n",
    "import math\n",
    "import networkx as nx"
   ]
  },
  {
   "cell_type": "code",
   "execution_count": 5,
   "metadata": {},
   "outputs": [],
   "source": [
    "def measure_average_mutual_information(network):\n",
    "    \n",
    "    N = network \n",
    "    Too = N.flatten().sum()\n",
    "    AMI = 0\n",
    "    column_sums = network.sum(axis=0)\n",
    "    row_sums = network.sum(axis=1)\n",
    "    x, y = network.shape\n",
    "    for i in range(x):\n",
    "        for j in range(y):\n",
    "            a = network[i][j] * Too / (row_sums[i] * column_sums[j])\n",
    "            if(a > 0):\n",
    "                AMI += network[i][j] / Too * math.log10(a)\n",
    "\n",
    "    return AMI"
   ]
  },
  {
   "cell_type": "code",
   "execution_count": 3,
   "metadata": {},
   "outputs": [
    {
     "ename": "UnboundLocalError",
     "evalue": "local variable 'j' referenced before assignment",
     "output_type": "error",
     "traceback": [
      "\u001b[1;31m---------------------------------------------------------------------------\u001b[0m",
      "\u001b[1;31mUnboundLocalError\u001b[0m                         Traceback (most recent call last)",
      "\u001b[1;32m<ipython-input-3-8b1dba3e13ee>\u001b[0m in \u001b[0;36m<module>\u001b[1;34m\u001b[0m\n\u001b[0;32m     46\u001b[0m \u001b[1;33m\u001b[0m\u001b[0m\n\u001b[0;32m     47\u001b[0m \u001b[0mnetwork\u001b[0m \u001b[1;33m=\u001b[0m \u001b[0mtree_matrix\u001b[0m\u001b[1;33m\u001b[0m\u001b[1;33m\u001b[0m\u001b[0m\n\u001b[1;32m---> 48\u001b[1;33m \u001b[0mprint\u001b[0m\u001b[1;33m(\u001b[0m\u001b[0mpartition_flows\u001b[0m\u001b[1;33m(\u001b[0m\u001b[0mnetwork\u001b[0m\u001b[1;33m)\u001b[0m\u001b[1;33m)\u001b[0m\u001b[1;33m\u001b[0m\u001b[1;33m\u001b[0m\u001b[0m\n\u001b[0m",
      "\u001b[1;32m<ipython-input-3-8b1dba3e13ee>\u001b[0m in \u001b[0;36mpartition_flows\u001b[1;34m(network)\u001b[0m\n\u001b[0;32m      7\u001b[0m         \u001b[0moptimal_node\u001b[0m \u001b[1;33m=\u001b[0m \u001b[0mi\u001b[0m\u001b[1;33m\u001b[0m\u001b[1;33m\u001b[0m\u001b[0m\n\u001b[0;32m      8\u001b[0m         \u001b[0moptimal_network\u001b[0m \u001b[1;33m=\u001b[0m \u001b[0mnp\u001b[0m\u001b[1;33m.\u001b[0m\u001b[0mzeros\u001b[0m\u001b[1;33m(\u001b[0m\u001b[1;33m(\u001b[0m\u001b[1;36m2\u001b[0m\u001b[1;33m,\u001b[0m\u001b[1;36m2\u001b[0m\u001b[1;33m)\u001b[0m\u001b[1;33m)\u001b[0m\u001b[1;33m\u001b[0m\u001b[1;33m\u001b[0m\u001b[0m\n\u001b[1;32m----> 9\u001b[1;33m         \u001b[1;32mif\u001b[0m\u001b[1;33m(\u001b[0m\u001b[0mj\u001b[0m \u001b[1;33m<\u001b[0m \u001b[0mi\u001b[0m\u001b[1;33m)\u001b[0m\u001b[1;33m:\u001b[0m\u001b[1;33m\u001b[0m\u001b[1;33m\u001b[0m\u001b[0m\n\u001b[0m\u001b[0;32m     10\u001b[0m             \u001b[0mtest_network\u001b[0m \u001b[1;33m=\u001b[0m \u001b[0mcreate_extended_array\u001b[0m\u001b[1;33m(\u001b[0m\u001b[0moptimal_network\u001b[0m\u001b[1;33m)\u001b[0m\u001b[1;33m\u001b[0m\u001b[1;33m\u001b[0m\u001b[0m\n\u001b[0;32m     11\u001b[0m         \u001b[1;32mfor\u001b[0m \u001b[0mj\u001b[0m \u001b[1;32min\u001b[0m \u001b[0mrange\u001b[0m\u001b[1;33m(\u001b[0m\u001b[1;36m0\u001b[0m\u001b[1;33m,\u001b[0m \u001b[0mx\u001b[0m\u001b[1;33m)\u001b[0m\u001b[1;33m:\u001b[0m\u001b[1;33m\u001b[0m\u001b[1;33m\u001b[0m\u001b[0m\n",
      "\u001b[1;31mUnboundLocalError\u001b[0m: local variable 'j' referenced before assignment"
     ]
    }
   ],
   "source": [
    "def partition_flows(network):\n",
    "    x, y = network.shape\n",
    "    optimal_nodes = [] \n",
    "    optimal_networks = []\n",
    "    for i in range(x):\n",
    "        current_information = 0\n",
    "        optimal_node = i\n",
    "        optimal_network = np.zeros((2,2))\n",
    "        if(j < i):\n",
    "            test_network = create_extended_array(optimal_network)\n",
    "        for j in range(0, x):\n",
    "            if(i != j):\n",
    "                n = np.zeros((2,2))\n",
    "                n[0][0] = network[i][i]\n",
    "                n[1][1] = network[j][j]\n",
    "                n[0][1] = network[i][j]\n",
    "                n[1][0] = network[j][i]\n",
    "                ami = measure_average_mutual_information(n)\n",
    "                if(current_information < ami):\n",
    "                    current_information = ami\n",
    "                    optimal_node = j\n",
    "                    optimal_network = n\n",
    "        optimal_nodes.append(optimal_node)\n",
    "        optimal_networks.append(optimal_network)\n",
    "        print(optimal_network)\n",
    "    print(optimal_nodes)\n",
    "    return optimal_networks\n",
    "\n",
    "def create_extended_array(network):\n",
    "    x, y = network.size\n",
    "    new_network = np.zeros((x + 1, y + 1))\n",
    "    for i in range(x - 1):\n",
    "        for j in range(y - 1):\n",
    "            new_network[x][y] = network[x][y]\n",
    "    \n",
    "    return new_network\n",
    "    \n",
    "\n",
    "tree_matrix =  np.array([[0, 1, 1, 0, 0, 0, 0],\n",
    "                         [1, 0, 0, 1, 1, 0, 0],\n",
    "                         [1, 0, 0, 0, 0, 1, 1], \n",
    "                         [0, 1, 0, 0, 0, 0, 0], \n",
    "                         [0, 1, 0, 0, 0, 0, 0],\n",
    "                         [0, 0, 1, 0, 0, 0, 0],\n",
    "                         [0, 0, 1, 0, 0, 0, 0]])\n",
    "\n",
    "network = tree_matrix\n",
    "print(partition_flows(network))"
   ]
  },
  {
   "cell_type": "code",
   "execution_count": null,
   "metadata": {},
   "outputs": [],
   "source": [
    "def partition(network):\n",
    "    communities = {}\n",
    "    for i in range(network.number_of_nodes()):\n",
    "        communities[i] = -1\n",
    "    for i in range(network.number_of_nodes()):\n",
    "        for n in G.neighbors(i):\n",
    "            nodes = []\n",
    "            nodes.append(i)\n",
    "            nodes.append(n)\n",
    "            g = network.subgraph(nodes)\n",
    "            return nx.to_numpy_array(g)\n",
    "\n",
    "\n",
    "print(partition(G))"
   ]
  },
  {
   "cell_type": "code",
   "execution_count": 48,
   "metadata": {},
   "outputs": [],
   "source": [
    "def ascendency_partition(network):\n",
    "    x, y = network.shape\n",
    "    network_copy = network\n",
    "    G = nx.Graph(create_using=nx.DiGraph)\n",
    "    G.add_node(1)\n",
    "    dict_of_nodes = {0 : 0}\n",
    "    nodes_added = []\n",
    "    nodes_added.append(0)\n",
    "    while(len(nodes_added) != 0):\n",
    "        new_nodes_added = []\n",
    "        for node in nodes_added:\n",
    "            neighbours = get_neighbour_ids(node, network)\n",
    "            for neighbour in neighbours:\n",
    "                G, dict_of_nodes, node_added = test_ami(G, node, neighbour, network[node][neighbour], network[neighbour][node], dict_of_nodes)\n",
    "                if(node_added != -1):\n",
    "                    new_nodes_added.append(node_added)\n",
    "        nodes_added = new_nodes_added\n",
    "    return G\n",
    "\n",
    "def test_ami(G, old_node_id, new_node_id, w1, w2, dict_of_nodes):\n",
    "        \n",
    "    graph_matrix = nx.to_numpy_array(G)\n",
    "    old_ami = measure_average_mutual_information(graph_matrix)\n",
    "    test_G = G\n",
    "    if new_node_id not in dict_of_nodes:\n",
    "        test_G.add_node(1)\n",
    "        test_G.add_edge(dict_of_nodes[old_node_id], G.number_of_nodes(), weight = w1)\n",
    "        test_G.add_edge(G.number_of_nodes(), dict_of_nodes[old_node_id], weight = w2)\n",
    "    elif(not(test_G.has_edge(dict_of_nodes[old_node_id], dict_of_nodes[new_node_id]) \n",
    "           or test_G.has_edge(dict_of_nodes[new_node_id], dict_of_nodes[old_node_id]))):\n",
    "        test_G.add_edge(dict_of_nodes[old_node_id], dict_of_nodes[new_node_id], weight = w1)\n",
    "        test_G.add_edge(dict_of_nodes[new_node_id], dict_of_nodes[old_node_id], weight = w2)\n",
    "    node_added = -1\n",
    "    if(old_ami < measure_average_mutual_information(nx.to_numpy_array(test_G))):\n",
    "        G = test_G\n",
    "        if new_node_id not in dict_of_nodes:\n",
    "            dict_of_nodes[new_node_id] = G.number_of_nodes()\n",
    "            node_added = new_node_id\n",
    "    return G, dict_of_nodes, node_added\n",
    "\n",
    "def get_neighbour_ids(node_number, network):\n",
    "    x, y = network.shape\n",
    "    ids = []\n",
    "    for i in range(x):\n",
    "        if(network[node_number][i] != 0 or network[i][node_number] != 0):\n",
    "            ids.append(i)\n",
    "    return ids\n",
    "\n"
   ]
  },
  {
   "cell_type": "code",
   "execution_count": 49,
   "metadata": {},
   "outputs": [
    {
     "name": "stderr",
     "output_type": "stream",
     "text": [
      "C:\\Users\\Ivan\\AppData\\Roaming\\Python\\Python37\\site-packages\\ipykernel_launcher.py:11: RuntimeWarning: invalid value encountered in double_scalars\n",
      "  # This is added back by InteractiveShellApp.init_path()\n"
     ]
    }
   ],
   "source": [
    "tree_matrix =  np.array([[0, 1, 1, 0, 0, 0, 0],\n",
    "                         [1, 0, 0, 1, 1, 0, 0],\n",
    "                         [1, 0, 0, 0, 0, 1, 1], \n",
    "                         [0, 1, 0, 0, 0, 0, 0], \n",
    "                         [0, 1, 0, 0, 0, 0, 0],\n",
    "                         [0, 0, 1, 0, 0, 0, 0],\n",
    "                         [0, 0, 1, 0, 0, 0, 0]])\n",
    "\n",
    "network = tree_matrix\n",
    "\n",
    "G = ascendency_partition(network)"
   ]
  },
  {
   "cell_type": "code",
   "execution_count": 50,
   "metadata": {},
   "outputs": [
    {
     "name": "stdout",
     "output_type": "stream",
     "text": [
      "[[0. 1. 0. 0. 0. 0. 0. 0. 0. 0.]\n",
      " [1. 0. 1. 1. 1. 0. 0. 0. 0. 0.]\n",
      " [0. 1. 0. 0. 0. 0. 0. 0. 0. 0.]\n",
      " [0. 1. 0. 0. 0. 1. 1. 1. 1. 1.]\n",
      " [0. 1. 0. 0. 0. 0. 0. 0. 0. 0.]\n",
      " [0. 0. 0. 1. 0. 0. 0. 0. 0. 0.]\n",
      " [0. 0. 0. 1. 0. 0. 0. 0. 0. 0.]\n",
      " [0. 0. 0. 1. 0. 0. 0. 0. 0. 0.]\n",
      " [0. 0. 0. 1. 0. 0. 0. 0. 0. 0.]\n",
      " [0. 0. 0. 1. 0. 0. 0. 0. 0. 0.]]\n",
      "10 10\n"
     ]
    }
   ],
   "source": [
    "optimal_graph = nx.to_numpy_array(G)\n",
    "print(optimal_graph)\n",
    "x, y = optimal_graph.shape\n",
    "print(x, y)"
   ]
  },
  {
   "cell_type": "code",
   "execution_count": null,
   "metadata": {},
   "outputs": [],
   "source": []
  }
 ],
 "metadata": {
  "kernelspec": {
   "display_name": "Python 3",
   "language": "python",
   "name": "python3"
  },
  "language_info": {
   "codemirror_mode": {
    "name": "ipython",
    "version": 3
   },
   "file_extension": ".py",
   "mimetype": "text/x-python",
   "name": "python",
   "nbconvert_exporter": "python",
   "pygments_lexer": "ipython3",
   "version": "3.7.2"
  }
 },
 "nbformat": 4,
 "nbformat_minor": 2
}
