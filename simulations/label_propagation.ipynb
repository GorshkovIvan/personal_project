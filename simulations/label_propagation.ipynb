{
 "cells": [
  {
   "cell_type": "code",
   "execution_count": 2,
   "metadata": {},
   "outputs": [
    {
     "name": "stdout",
     "output_type": "stream",
     "text": [
      "importing Jupyter notebook from Neo4j.ipynb\n",
      "importing Jupyter notebook from graph_analyser.ipynb\n",
      "importing Jupyter notebook from louvain_ascendency.ipynb\n",
      "importing Jupyter notebook from mixer_ascendency.ipynb\n",
      "importing Jupyter notebook from etherscan_scrapper_v0.ipynb\n"
     ]
    }
   ],
   "source": [
    "import pandas as pd\n",
    "import import_ipynb\n",
    "from Neo4j import *\n",
    "import matplotlib.pyplot as plt\n",
    "from graph_analyser import *\n",
    "from etherscan_scrapper_v0 import *"
   ]
  },
  {
   "cell_type": "code",
   "execution_count": 3,
   "metadata": {},
   "outputs": [],
   "source": [
    "conn = Neo4jConnection(uri=\"bolt://localhost:7687\", \n",
    "                       user=\"neo4j\",              \n",
    "                       pwd=\"usdt\")"
   ]
  },
  {
   "cell_type": "code",
   "execution_count": 4,
   "metadata": {},
   "outputs": [
    {
     "name": "stdout",
     "output_type": "stream",
     "text": [
      "USDT\n"
     ]
    }
   ],
   "source": [
    "analyser = graph_analyser(conn, 'USDT')"
   ]
  },
  {
   "cell_type": "code",
   "execution_count": 8,
   "metadata": {},
   "outputs": [],
   "source": [
    "# setting seed labels \n",
    "\n",
    "query_string = '''MATCH (n) WHERE n.owner <> 'none' \n",
    "                  RETURN n.owner as owner\n",
    "                  ORDER BY n.owner DESC'''\n",
    "\n",
    "named_addresses = analyser.get_query_data(query_string)\n",
    "\n",
    "names = []\n",
    "for index, row in named_addresses.iterrows():\n",
    "    names.append(row['owner'])\n",
    "unique_names = np.unique(names)"
   ]
  },
  {
   "cell_type": "code",
   "execution_count": 11,
   "metadata": {},
   "outputs": [
    {
     "name": "stdout",
     "output_type": "stream",
     "text": [
      "0xmons 0\n",
      "ATAIX 1\n",
      "AXIA 2\n",
      "Aave 3\n",
      "AmongUs Finance 4\n",
      "Atom Solutions 5\n",
      "Aubit 6\n",
      "B2BinPay 7\n",
      "BIKI.com 8\n",
      "BITFRONT 9\n",
      "Balancer 10\n",
      "Bancor 11\n",
      "Bibox 12\n",
      "Bilaxy 13\n",
      "Binance 14\n",
      "BitMart 15\n",
      "Bitci 16\n",
      "Bitfinex 17\n",
      "Bitlo 18\n",
      "Bitmax 19\n",
      "Bitsler.com 20\n",
      "Bitstamp 21\n",
      "Bittrex 22\n",
      "Bitzlato 23\n",
      "Blackrint.com 24\n",
      "BlockFi 25\n",
      "BlockTrades Exchange 26\n",
      "Boring 27\n",
      "Bridge 28\n",
      "BtcEX 29\n",
      "Bulksender.app 30\n",
      "Burn Address 31\n",
      "CREX24 32\n",
      "Cashierest 33\n",
      "Catex Exchange 34\n",
      "Celsius Network 35\n",
      "CoinW 36\n",
      "Coinbase 37\n",
      "Coinex 38\n",
      "Coinhako 39\n",
      "Coinone 40\n",
      "Compound 41\n",
      "Cream.Finance 42\n",
      "Crypto.com 43\n",
      "Curve.fi 44\n",
      "Cyclops Game 45\n",
      "DODO 46\n",
      "Defiprime 47\n",
      "DeversiFi 48\n",
      "F2Pool 49\n",
      "FTX 50\n",
      "Finiko 51\n",
      "FixedFloat 52\n",
      "Freewallet 53\n",
      "Gate.io 54\n",
      "Gitcoin Grants 55\n",
      "HaruBank 56\n",
      "Hedget 57\n",
      "HitBTC 58\n",
      "Hoo.com 59\n",
      "Huobi 60\n",
      "IDEX 61\n",
      "Idle.finance 62\n",
      "Indodax 63\n",
      "Invictus 64\n",
      "Jomari_P 65\n",
      "KickEX 66\n",
      "Kraken 67\n",
      "Loopring 68\n",
      "MXC 69\n",
      "Maker 70\n",
      "Mercatox 71\n",
      "Monolith 72\n",
      "Multisender.app 73\n",
      "Nexo 74\n",
      "OMGFIN 75\n",
      "PAYZUS 76\n",
      "PRUF.io 77\n",
      "Peatio 78\n",
      "Phoenix Payments 79\n",
      "Poloniex 80\n",
      "Portion.io 81\n",
      "Rarible 82\n",
      "Remitano 83\n",
      "Serenity 84\n",
      "ShapeShift 85\n",
      "Spark Pool 86\n",
      "Sparrow Exchange 87\n",
      "SushiSwap 88\n",
      "Suterusu 89\n",
      "SwissBorg 90\n",
      "Tether 91\n",
      "Tip.cc 92\n",
      "Todex 93\n",
      "Tokenlon 94\n",
      "Tornado.Cash 95\n",
      "TrestleWorks 96\n",
      "Uniswap 97\n",
      "Uphold.com 98\n",
      "WhiteBIT 99\n",
      "Yearn 100\n",
      "YouHodler 101\n",
      "Zerion 102\n",
      "ZixiPay 103\n",
      "blakeburrito 104\n",
      "dYdX 105\n",
      "eth2-depositor 106\n",
      "iob.fi 107\n",
      "leifengcrypto 108\n",
      "unagii.com 109\n",
      "zkSync 110\n"
     ]
    }
   ],
   "source": [
    "for seed_label, name in enumerate(unique_names):\n",
    "    \n",
    "    query_string = '''MATCH (n) WHERE n.owner = '%s' \n",
    "                      SET n.seed_label = %d''' %(name, seed_label)\n",
    "    analyser.conn.query(query_string)\n",
    "    print(name, seed_label)\n"
   ]
  },
  {
   "cell_type": "code",
   "execution_count": null,
   "metadata": {},
   "outputs": [],
   "source": []
  }
 ],
 "metadata": {
  "kernelspec": {
   "display_name": "Python 3",
   "language": "python",
   "name": "python3"
  },
  "language_info": {
   "codemirror_mode": {
    "name": "ipython",
    "version": 3
   },
   "file_extension": ".py",
   "mimetype": "text/x-python",
   "name": "python",
   "nbconvert_exporter": "python",
   "pygments_lexer": "ipython3",
   "version": "3.7.2"
  }
 },
 "nbformat": 4,
 "nbformat_minor": 2
}
