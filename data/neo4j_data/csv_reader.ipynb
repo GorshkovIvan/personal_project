{
 "cells": [
  {
   "cell_type": "code",
   "execution_count": 4,
   "metadata": {},
   "outputs": [],
   "source": [
    "import csv\n"
   ]
  },
  {
   "cell_type": "code",
   "execution_count": 63,
   "metadata": {},
   "outputs": [],
   "source": [
    "communities_dict = {}\n",
    "addresses_dict = {}\n",
    "with open('uniswap_communities.csv', newline='') as csvfile:\n",
    "    communities = csv.reader(csvfile, delimiter=',')\n",
    "    next(communities)\n",
    "    for row in communities:\n",
    "        if row[0] in communities_dict.keys():   \n",
    "            communities_dict[row[0]].append(row[1])\n",
    "        else:\n",
    "            communities_dict[row[0]] = []\n",
    "            communities_dict[row[0]].append(row[1])\n",
    "        addresses_dict[row[1]] = row[0]\n",
    "\n"
   ]
  },
  {
   "cell_type": "code",
   "execution_count": 65,
   "metadata": {},
   "outputs": [
    {
     "name": "stdout",
     "output_type": "stream",
     "text": [
      "5368\n"
     ]
    }
   ],
   "source": [
    "print(addresses_dict['0xdafd66636e2561b0284edde37e42d192f2844d40'])"
   ]
  },
  {
   "cell_type": "code",
   "execution_count": 68,
   "metadata": {},
   "outputs": [
    {
     "name": "stdout",
     "output_type": "stream",
     "text": [
      "key: 1 number of addresses: 47\n",
      "key: 1417 number of addresses: 69\n",
      "key: 33 number of addresses: 217\n",
      "key: 13 number of addresses: 694\n",
      "key: 11 number of addresses: 52\n",
      "key: 17 number of addresses: 22\n",
      "key: 1040 number of addresses: 552\n",
      "key: 46 number of addresses: 614\n",
      "key: 5 number of addresses: 315\n",
      "key: 29 number of addresses: 188\n",
      "key: 8 number of addresses: 123\n",
      "key: 9 number of addresses: 42\n",
      "key: 196 number of addresses: 49\n",
      "key: 148 number of addresses: 63\n",
      "key: 88 number of addresses: 171\n",
      "key: 113 number of addresses: 92\n",
      "key: 5368 number of addresses: 45\n",
      "key: 124 number of addresses: 28\n",
      "key: 6346 number of addresses: 24\n",
      "key: 157 number of addresses: 24\n",
      "key: 155 number of addresses: 21\n",
      "key: 523 number of addresses: 111\n",
      "key: 69 number of addresses: 107\n",
      "key: 943 number of addresses: 62\n",
      "key: 357 number of addresses: 44\n",
      "key: 257 number of addresses: 56\n"
     ]
    }
   ],
   "source": [
    "for k in communities_dict.keys():\n",
    "    if(len(communities_dict[k]) > 20):\n",
    "        print(\"key: \" +str(k) + \" number of addresses: \" + str(len(communities_dict[k])))"
   ]
  },
  {
   "cell_type": "code",
   "execution_count": null,
   "metadata": {},
   "outputs": [],
   "source": []
  }
 ],
 "metadata": {
  "kernelspec": {
   "display_name": "Python 3",
   "language": "python",
   "name": "python3"
  },
  "language_info": {
   "codemirror_mode": {
    "name": "ipython",
    "version": 3
   },
   "file_extension": ".py",
   "mimetype": "text/x-python",
   "name": "python",
   "nbconvert_exporter": "python",
   "pygments_lexer": "ipython3",
   "version": "3.7.2"
  }
 },
 "nbformat": 4,
 "nbformat_minor": 2
}
